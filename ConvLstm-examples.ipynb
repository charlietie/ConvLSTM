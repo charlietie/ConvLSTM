{
 "cells": [
  {
   "cell_type": "markdown",
   "metadata": {},
   "source": [
    "# ConvLstm examples on Opportunity Dataset -` gesture` only"
   ]
  },
  {
   "cell_type": "code",
   "execution_count": 1,
   "metadata": {},
   "outputs": [
    {
     "name": "stderr",
     "output_type": "stream",
     "text": [
      "Using TensorFlow backend.\n"
     ]
    }
   ],
   "source": [
    "import numpy as np\n",
    "import scipy.io # load the matrix file\n",
    "import pickle as cp\n",
    " \n",
    "import keras\n",
    "from keras.utils import to_categorical\n",
    "from keras.models import Sequential\n",
    "from keras.layers import Conv2D, MaxPooling2D, LSTM, Dense, Dropout, Flatten\n",
    "from keras.layers.core import Permute, Reshape\n",
    "from keras import backend as K\n",
    "from keras.callbacks import TensorBoard \n",
    "\n",
    "from sklearn.model_selection import train_test_split\n",
    "# example: X_train, X_test, y_train, y_test = train_test_split(X, y, test_size=0.33)\n"
   ]
  },
  {
   "cell_type": "markdown",
   "metadata": {},
   "source": [
    "# 1. Prepare the dataset `OPPORTUNITY Activity Recognition Data Set ` "
   ]
  },
  {
   "cell_type": "markdown",
   "metadata": {},
   "source": [
    "## 1. Wearable Sensor Data"
   ]
  },
  {
   "cell_type": "code",
   "execution_count": 2,
   "metadata": {
    "scrolled": true
   },
   "outputs": [
    {
     "name": "stdout",
     "output_type": "stream",
     "text": [
      "Loading data...\n",
      " ..from file C:/Users/41762/Dropbox/Dataset/Opportunity/oppChallenge_gestures.data\n",
      " ..reading instances: X_train (557963, 113), X_test (118750, 113)\n",
      " ..reading instances: y_train (557963,), y_test (118750,)\n",
      "Successfully\n"
     ]
    }
   ],
   "source": [
    "\n",
    "def load_dataset(filename):\n",
    "    \"\"\"\n",
    "    Function to load dataset \n",
    "    \n",
    "    Argument:\n",
    "        filename : the path of the preprocessed dataset\n",
    "    \n",
    "    Return:\n",
    "    \n",
    "        X_train\n",
    "        y_train\n",
    "        X_test\n",
    "        y_test\n",
    "        \n",
    "    Notice:\n",
    "        Need use `pickle(python3)` or`cpicckle(python2)` module to load and read dataset.\n",
    "        \n",
    "    \n",
    "    \"\"\"\n",
    "\n",
    "    f = open(filename, 'rb')\n",
    "    data = cp.load(f)\n",
    "    f.close()\n",
    "\n",
    "    X_train, y_train = data[0]\n",
    "    X_test, y_test = data[1]\n",
    "\n",
    "    print(\" ..from file {}\".format(filename))\n",
    "    print(\" ..reading instances: X_train {0}, X_test {1}\".format(X_train.shape, X_test.shape))\n",
    "    print(\" ..reading instances: y_train {0}, y_test {1}\".format(y_train.shape, y_test.shape))\n",
    "\n",
    "    X_train = X_train.astype(np.float32)\n",
    "    X_test = X_test.astype(np.float32)\n",
    "\n",
    "    # The targets are casted to int8 for GPU compatibility.\n",
    "    y_train = y_train.astype(np.uint8)\n",
    "    y_test = y_test.astype(np.uint8)\n",
    "\n",
    "    return X_train, y_train, X_test, y_test\n",
    "\n",
    "print(\"Loading data...\")\n",
    "X_train, y_train, X_test, y_test = load_dataset('C:/Users/41762/Dropbox/Dataset/Opportunity/oppChallenge_gestures.data')\n",
    "print(\"Successfully\")\n"
   ]
  },
  {
   "cell_type": "code",
   "execution_count": 3,
   "metadata": {},
   "outputs": [
    {
     "name": "stdout",
     "output_type": "stream",
     "text": [
      "17 activities and 1 NaN classes\n"
     ]
    }
   ],
   "source": [
    "y_train.max()\n",
    "print(\"17 activities and 1 NaN classes\")"
   ]
  },
  {
   "cell_type": "code",
   "execution_count": 4,
   "metadata": {},
   "outputs": [],
   "source": [
    "# Opportunity num_classes = 18\n",
    "num_classes = 18"
   ]
  },
  {
   "cell_type": "code",
   "execution_count": 5,
   "metadata": {},
   "outputs": [],
   "source": [
    "# y_train = to_categorical(y_train,num_classes=num_classes)\n",
    "# y_test = to_categorical(y_test,num_classes)"
   ]
  },
  {
   "cell_type": "code",
   "execution_count": 6,
   "metadata": {},
   "outputs": [
    {
     "name": "stdout",
     "output_type": "stream",
     "text": [
      "(557963, 113)\n",
      "(557963,)\n"
     ]
    }
   ],
   "source": [
    "print(X_train.shape)\n",
    "print(y_train.shape)"
   ]
  },
  {
   "cell_type": "markdown",
   "metadata": {},
   "source": [
    "# 2.Now, we have `X_train, A_train, X_test, A_test, y_train, y_test`\n",
    "\n",
    "## 很显然我们需要用`sliding_window `来处理 `X_train` 和 `y_train` ，`A_train`&`A_test` to get the features\n",
    "    1.参考Kronecker Product fusion method 来实验\n",
    "        - 实验只用raw feature\n",
    "        - 对比混合了attribute 的方法\n",
    "    2. define `sliding_window`\n",
    "    3. using sliding_window to process raw data into (rows,window_size,dimensions)\n"
   ]
  },
  {
   "cell_type": "code",
   "execution_count": 7,
   "metadata": {},
   "outputs": [],
   "source": [
    "from sliding_window import sliding_window\n",
    "# ?sliding_window\n",
    "\n",
    "# assert NB_SENSOR_CHANNELS == X_train.shape[1]\n",
    "def opp_sliding_window(data_x, data_y, ws, ss):\n",
    "    data_x = sliding_window(a=data_x,ws=(ws,data_x.shape[1]),ss=(ss,1),flatten=False)\n",
    "#     data_x = sliding_window(data_x,ws,ss)\n",
    "\n",
    "    data_y = np.asarray([[i[-1]] for i in sliding_window(data_y,ws,ss,flatten=False)])\n",
    "    return data_x.reshape(-1,ws,data_x.shape[3]).astype(np.float32), data_y.reshape(-1).astype(np.uint8)\n",
    "#     return data_x.astype(np.float32), data_y.flatten().astype(np.uint8)\n",
    "\n",
    "SLIDING_WINDOW_LENGTH = 24\n",
    "SLIDING_WINDOW_STEP = 12"
   ]
  },
  {
   "cell_type": "code",
   "execution_count": 8,
   "metadata": {},
   "outputs": [
    {
     "name": "stdout",
     "output_type": "stream",
     "text": [
      " ..after sliding window (training): inputs (46495, 24, 113), targets (46495,)\n",
      " ..after sliding window (testing): inputs (9894, 24, 113), targets (9894,)\n"
     ]
    }
   ],
   "source": [
    "# Use sliding_window to choose samples\n",
    "\n",
    "X_train0, y_train0 = opp_sliding_window(X_train, y_train, SLIDING_WINDOW_LENGTH, SLIDING_WINDOW_STEP)\n",
    "print(\" ..after sliding window (training): inputs {0}, targets {1}\".format(X_train0.shape, y_train0.shape))\n",
    "\n",
    "X_test0, y_test0 = opp_sliding_window(X_test, y_test, SLIDING_WINDOW_LENGTH, SLIDING_WINDOW_STEP)\n",
    "print(\" ..after sliding window (testing): inputs {0}, targets {1}\".format(X_test0.shape, y_test0.shape))\n"
   ]
  },
  {
   "cell_type": "code",
   "execution_count": 9,
   "metadata": {},
   "outputs": [],
   "source": [
    "y_train1 = to_categorical(y_train0,num_classes)\n",
    "y_test1 = to_categorical(y_test0,num_classes)"
   ]
  },
  {
   "cell_type": "code",
   "execution_count": 10,
   "metadata": {},
   "outputs": [
    {
     "data": {
      "text/plain": [
       "(9894, 24, 113)"
      ]
     },
     "execution_count": 10,
     "metadata": {},
     "output_type": "execute_result"
    }
   ],
   "source": [
    "y_test0.shape\n",
    "y_train1.shape\n",
    "X_train0 = X_train0[:,:,0:113]\n",
    "X_test0 = X_test0[:,:,0:113]\n",
    "X_train0.shape\n",
    "X_test0.shape"
   ]
  },
  {
   "cell_type": "markdown",
   "metadata": {},
   "source": [
    "# 2. Define the `ConvLstm` Model"
   ]
  },
  {
   "cell_type": "code",
   "execution_count": 11,
   "metadata": {},
   "outputs": [],
   "source": [
    "def model_variant(model, num_feat_map, dim, network_type):\n",
    "    print(network_type)\n",
    "    if network_type == 'ConvLSTM':\n",
    "        model.add(Permute((2, 1, 3))) # for swap-dimension\n",
    "        model.add(Reshape((-1,num_feat_map*dim)))\n",
    "        model.add(LSTM(32, return_sequences=False, stateful=False))\n",
    "        model.add(Dropout(0.2))\n",
    "    if network_type == 'CNN':\n",
    "         \n",
    "        model.add(Flatten())\n",
    "        model.add(Dense(32, activation='relu'))\n",
    "        model.add(Dropout(0.2))\n",
    "\n",
    "def model_conv(model, num_feat_map):\n",
    "    model.add(Conv2D(num_feat_map, kernel_size=(1, 5),\n",
    "                 activation='relu',\n",
    "                 input_shape=(dim, win_len, 1),\n",
    "                 padding='same'))\n",
    "    \n",
    "    model.add(MaxPooling2D(pool_size=(1, 2)))\n",
    "    model.add(Dropout(0.2))\n",
    "    model.add(Conv2D(num_feat_map, \n",
    "                     kernel_size=(1, 5), \n",
    "                     activation='relu',\n",
    "                     padding='same'))\n",
    "    \n",
    "    model.add(MaxPooling2D(pool_size=(1, 2)))\n",
    "    model.add(Dropout(0.2))\n",
    "     \n",
    "\n",
    "def model_LSTM(model):\n",
    "    model.add(LSTM(num_hidden_lstm, \n",
    "               input_shape=(win_len,dim), \n",
    "               return_sequences=True))\n",
    "    model.add(Dropout(0.2))\n",
    "    model.add(LSTM(num_hidden_lstm, return_sequences=False))\n",
    "    model.add(Dropout(0.2))\n",
    "\n",
    "# def model_LSTM(model):\n",
    "    \n",
    "\n",
    "# ### def model_MLP(model, num_hidden_mlp):\n",
    "#     model.add(Dense(num_hidden_mlp, activation='relu', input_shape=(dim*win_len,)))\n",
    "#     model.add(Dropout(0.5))\n",
    "#     model.add(Dense(num_hidden_mlp, activation='relu'))\n",
    "#     model.add(Dropout(0.5))\n",
    "\n",
    "def model_output(model):\n",
    "    model.add(Dense(num_classes, activation='softmax'))"
   ]
  },
  {
   "cell_type": "code",
   "execution_count": 12,
   "metadata": {},
   "outputs": [],
   "source": [
    "batch_size = 128\n",
    "num_feat_map = 16\n",
    "num_hidden_mlp = 128\n",
    "num_hidden_lstm = 64\n",
    "\n"
   ]
  },
  {
   "cell_type": "code",
   "execution_count": 13,
   "metadata": {},
   "outputs": [],
   "source": [
    "network_type = 'ConvLSTM'"
   ]
  },
  {
   "cell_type": "code",
   "execution_count": 14,
   "metadata": {},
   "outputs": [],
   "source": [
    "\n",
    "_, win_len, dim = X_train0.shape\n"
   ]
  },
  {
   "cell_type": "code",
   "execution_count": 15,
   "metadata": {},
   "outputs": [
    {
     "data": {
      "text/plain": [
       "(46495, 24, 113)"
      ]
     },
     "execution_count": 15,
     "metadata": {},
     "output_type": "execute_result"
    }
   ],
   "source": [
    "X_train0.shape"
   ]
  },
  {
   "cell_type": "code",
   "execution_count": 16,
   "metadata": {},
   "outputs": [],
   "source": [
    "def _data_reshaping(X_tr, X_va, network_type):\n",
    "    _, win_len, dim = X_tr.shape\n",
    "    print(network_type)\n",
    "    if network_type=='CNN' or network_type=='ConvLSTM':\n",
    "         \n",
    "        # make it into (frame_number, dimension, window_size, channel=1) for convNet\n",
    "        X_tr = np.swapaxes(X_tr,1,2)\n",
    "        X_va = np.swapaxes(X_va,1,2)\n",
    " \n",
    "        X_tr = np.reshape(X_tr, (-1, dim, win_len, 1))\n",
    "        X_va = np.reshape(X_va, (-1, dim, win_len, 1))\n",
    "         \n",
    "    if network_type=='MLP':\n",
    "        print('MLP...')\n",
    "        X_tr = np.reshape(X_tr, (-1, dim*win_len))\n",
    "        X_va = np.reshape(X_va, (-1, dim*win_len))\n",
    "     \n",
    "    return X_tr, X_va"
   ]
  },
  {
   "cell_type": "code",
   "execution_count": 17,
   "metadata": {},
   "outputs": [
    {
     "name": "stdout",
     "output_type": "stream",
     "text": [
      "ConvLSTM\n",
      "x_test shape = (9894, 113, 24, 1)\n"
     ]
    }
   ],
   "source": [
    "X_train, X_test = _data_reshaping(X_train0, X_test0, network_type)\n",
    "print('x_test shape = ' + str(X_test.shape))"
   ]
  },
  {
   "cell_type": "code",
   "execution_count": 18,
   "metadata": {},
   "outputs": [
    {
     "data": {
      "text/plain": [
       "(46495, 113, 24, 1)"
      ]
     },
     "execution_count": 18,
     "metadata": {},
     "output_type": "execute_result"
    }
   ],
   "source": [
    "X_train.shape"
   ]
  },
  {
   "cell_type": "code",
   "execution_count": 19,
   "metadata": {},
   "outputs": [],
   "source": [
    "model = Sequential()"
   ]
  },
  {
   "cell_type": "code",
   "execution_count": 20,
   "metadata": {},
   "outputs": [
    {
     "name": "stdout",
     "output_type": "stream",
     "text": [
      "ConvLSTM\n"
     ]
    }
   ],
   "source": [
    "if network_type=='CNN' or network_type=='ConvLSTM':\n",
    "    model_conv(model, num_feat_map)\n",
    "    model_variant(model, num_feat_map, dim, network_type)\n",
    "if network_type=='LSTM':\n",
    "    model_LSTM(model)\n",
    "if network_type=='MLP': \n",
    "    model_MLP(model, num_hidden_mlp) \n",
    "    "
   ]
  },
  {
   "cell_type": "code",
   "execution_count": 21,
   "metadata": {
    "scrolled": true
   },
   "outputs": [
    {
     "name": "stdout",
     "output_type": "stream",
     "text": [
      "(46495, 24, 113)\n",
      "_________________________________________________________________\n",
      "Layer (type)                 Output Shape              Param #   \n",
      "=================================================================\n",
      "conv2d_1 (Conv2D)            (None, 113, 24, 16)       96        \n",
      "_________________________________________________________________\n",
      "max_pooling2d_1 (MaxPooling2 (None, 113, 12, 16)       0         \n",
      "_________________________________________________________________\n",
      "dropout_1 (Dropout)          (None, 113, 12, 16)       0         \n",
      "_________________________________________________________________\n",
      "conv2d_2 (Conv2D)            (None, 113, 12, 16)       1296      \n",
      "_________________________________________________________________\n",
      "max_pooling2d_2 (MaxPooling2 (None, 113, 6, 16)        0         \n",
      "_________________________________________________________________\n",
      "dropout_2 (Dropout)          (None, 113, 6, 16)        0         \n",
      "_________________________________________________________________\n",
      "permute_1 (Permute)          (None, 6, 113, 16)        0         \n",
      "_________________________________________________________________\n",
      "reshape_1 (Reshape)          (None, 6, 1808)           0         \n",
      "_________________________________________________________________\n",
      "lstm_1 (LSTM)                (None, 32)                235648    \n",
      "_________________________________________________________________\n",
      "dropout_3 (Dropout)          (None, 32)                0         \n",
      "_________________________________________________________________\n",
      "dense_1 (Dense)              (None, 18)                594       \n",
      "=================================================================\n",
      "Total params: 237,634\n",
      "Trainable params: 237,634\n",
      "Non-trainable params: 0\n",
      "_________________________________________________________________\n"
     ]
    }
   ],
   "source": [
    "print(X_train0.shape)\n",
    "model_output(model)    \n",
    "model.summary()"
   ]
  },
  {
   "cell_type": "markdown",
   "metadata": {},
   "source": [
    "# 3. Compile the model\n",
    "- Chose `F1-Score` and `Cross-entropy Loss` and `Confusion Matrix` as the metrics"
   ]
  },
  {
   "cell_type": "code",
   "execution_count": 22,
   "metadata": {},
   "outputs": [
    {
     "name": "stdout",
     "output_type": "stream",
     "text": [
      "(9894, 24, 113)\n",
      "(9894,)\n"
     ]
    }
   ],
   "source": [
    "from keras import metrics\n",
    "\n",
    "model.compile(loss=keras.losses.categorical_crossentropy,\n",
    "              optimizer=keras.optimizers.Adam(),\n",
    "              metrics=['accuracy'])\n",
    "\n",
    "tensorboardCallBack = TensorBoard(log_dir='./Opportunity-Graph', histogram_freq=0, write_graph=True, write_images=True)\n",
    "\n",
    "print(X_test0.shape)\n",
    "print(y_test0.shape)"
   ]
  },
  {
   "cell_type": "code",
   "execution_count": null,
   "metadata": {
    "scrolled": true
   },
   "outputs": [
    {
     "name": "stdout",
     "output_type": "stream",
     "text": [
      "Train on 46495 samples, validate on 9894 samples\n",
      "Epoch 1/30\n"
     ]
    }
   ],
   "source": [
    "epochs =30\n",
    "H = model.fit(X_train, y_train1,\n",
    "            batch_size=batch_size,\n",
    "            epochs=epochs,\n",
    "            verbose=1,\n",
    "            shuffle=False,\n",
    "            validation_data=(X_test, y_test1),\n",
    "#             callbacks=[tensorboardCallBack]\n",
    "             )"
   ]
  },
  {
   "cell_type": "code",
   "execution_count": null,
   "metadata": {},
   "outputs": [],
   "source": [
    "#model = keras.models.load_model(\"ConvLSTM-Opportunity-Model.h5\")"
   ]
  },
  {
   "cell_type": "markdown",
   "metadata": {},
   "source": [
    "# 4. Save the model into file"
   ]
  },
  {
   "cell_type": "code",
   "execution_count": null,
   "metadata": {},
   "outputs": [],
   "source": [
    "from keras.models import load_model\n",
    "\n",
    "# model.save(\"ConvLSTM-Opportunity-Model.h5\")\n",
    "# model = keras.models.load_model(\"ConvLSTM-Opportunity-Model.h5\")"
   ]
  },
  {
   "cell_type": "code",
   "execution_count": null,
   "metadata": {},
   "outputs": [],
   "source": [
    "X_test.shape"
   ]
  },
  {
   "cell_type": "code",
   "execution_count": 55,
   "metadata": {},
   "outputs": [
    {
     "data": {
      "text/plain": [
       "(9894,)"
      ]
     },
     "execution_count": 55,
     "metadata": {},
     "output_type": "execute_result"
    }
   ],
   "source": [
    "y_test0.shape\n"
   ]
  },
  {
   "cell_type": "code",
   "execution_count": 56,
   "metadata": {},
   "outputs": [
    {
     "data": {
      "text/plain": [
       "(9894, 113, 24, 1)"
      ]
     },
     "execution_count": 56,
     "metadata": {},
     "output_type": "execute_result"
    }
   ],
   "source": [
    "X_test.shape"
   ]
  },
  {
   "cell_type": "code",
   "execution_count": 57,
   "metadata": {},
   "outputs": [],
   "source": [
    "foo = model.predict_classes(X_test)"
   ]
  },
  {
   "cell_type": "code",
   "execution_count": null,
   "metadata": {},
   "outputs": [],
   "source": []
  },
  {
   "cell_type": "markdown",
   "metadata": {},
   "source": [
    "# 5. `f1-score` and `confusion matrix`\n",
    "macro\n",
    "- 0.5139\n",
    "- 0.5356\n",
    "- 0.5566\n",
    "- 0.57\n",
    "- 0.5643"
   ]
  },
  {
   "cell_type": "code",
   "execution_count": 58,
   "metadata": {
    "scrolled": true
   },
   "outputs": [
    {
     "name": "stdout",
     "output_type": "stream",
     "text": [
      "||Results||\n",
      "\tTest f1 score(macro):\t0.6229 \n",
      "\tTest f1 score(weighted):\t0.8997 \n",
      "\tTook 0.005s.\n"
     ]
    }
   ],
   "source": [
    "# Results presentation\n",
    "import time\n",
    "start_time = time.time()\n",
    "\n",
    "print(\"||Results||\")\n",
    "\n",
    "\n",
    "import sklearn.metrics as metrics\n",
    "\n",
    "\n",
    "print(\"\\tTest f1 score(macro):\\t{:.4f} \".format(metrics.f1_score(y_true=y_test0, y_pred=foo,average=\"macro\")))\n",
    "print(\"\\tTest f1 score(weighted):\\t{:.4f} \".format(metrics.f1_score(y_true=y_test0, y_pred=foo,average=\"weighted\")))\n",
    "\n",
    "# print(\"\\tTest confusion matrix:\\t{:} \".format(metrics.confusion_matrix(y_test0, y_pred=foo)))\n",
    "# print(\"\\tTest fscore:\\t{:} \".format(metrics.(y_test0, y_pred=foo)))\n",
    "\n",
    "print(\"\\tTook {:.3f}s.\".format( time.time() - start_time))\n"
   ]
  },
  {
   "cell_type": "markdown",
   "metadata": {},
   "source": [
    "## 6. plot the confusion matrix\n",
    "\n",
    "http://scikit-learn.org/stable/auto_examples/model_selection/plot_confusion_matrix.html#sphx-glr-auto-examples-model-selection-plot-confusion-matrix-py"
   ]
  },
  {
   "cell_type": "code",
   "execution_count": 59,
   "metadata": {},
   "outputs": [
    {
     "name": "stdout",
     "output_type": "stream",
     "text": [
      "Confusion matrix, without normalization\n",
      "[[7870   14    6   10    5   51   28   14   40    5    5    2    1    4\n",
      "    22    6  136   18]\n",
      " [   7   41    0    9    0    0    0    0    0    0    0    0    0    0\n",
      "     0    0    1    0]\n",
      " [   8    0   74    1   12    0    0    0    0    0    0    0    0    0\n",
      "     0    0    0    0]\n",
      " [  10   13    0   37    0    0    0    0    0    0    0    0    0    0\n",
      "     0    0    0    0]\n",
      " [   2    0    3    0   78    0    0    0    0    0    0    0    0    0\n",
      "     0    0    0    0]\n",
      " [  52    0    0    0    0  147   25    4    0    0    0    0    0    0\n",
      "     0    0    0    0]\n",
      " [  16    0    0    0    0   11  132    1    0    0    0    0    0    0\n",
      "     0    0    0    0]\n",
      " [  39    0    0    0    0    4    1   53    3    0    0    0    0    0\n",
      "     0    0    0    0]\n",
      " [  27    0    0    0    0    0    2    9   39    0    0    0    0    0\n",
      "     0    0    0    0]\n",
      " [  11    0    0    0    0    0    0    1    0   19    4    0    1    0\n",
      "     0    0    0    3]\n",
      " [  17    0    0    0    0    0    0    0    0    6   19    0    0    0\n",
      "     0    0    0    0]\n",
      " [   4    0    0    0    0    0    0    5    1    8    3   15    1    0\n",
      "     2    0    0    1]\n",
      " [   3    0    0    0    0    0    0    0    3    1    6    2   11    0\n",
      "     0    0    0    0]\n",
      " [  11    0    0    0    0    0    0    3    1    0    0    4    3   41\n",
      "     3    0    0    1]\n",
      " [  10    0    0    0    0    0    0    2    0    0    0    0   10    9\n",
      "    30    0    0    0]\n",
      " [  63    0    0    0    0    0    0    0    0    0    0    0    0    0\n",
      "     0   35    1    0]\n",
      " [ 101    0    0    0    0    1    0    2    2    0    0    0    0    0\n",
      "     0    0  211    0]\n",
      " [  38    0    1    0    0    0    0    0    0    0    2    0    0    0\n",
      "     0    0    0   64]]\n",
      "Normalized confusion matrix\n",
      "[[9.554e-01 1.700e-03 7.284e-04 1.214e-03 6.070e-04 6.192e-03 3.399e-03\n",
      "  1.700e-03 4.856e-03 6.070e-04 6.070e-04 2.428e-04 1.214e-04 4.856e-04\n",
      "  2.671e-03 7.284e-04 1.651e-02 2.185e-03]\n",
      " [1.207e-01 7.069e-01 0.000e+00 1.552e-01 0.000e+00 0.000e+00 0.000e+00\n",
      "  0.000e+00 0.000e+00 0.000e+00 0.000e+00 0.000e+00 0.000e+00 0.000e+00\n",
      "  0.000e+00 0.000e+00 1.724e-02 0.000e+00]\n",
      " [8.421e-02 0.000e+00 7.789e-01 1.053e-02 1.263e-01 0.000e+00 0.000e+00\n",
      "  0.000e+00 0.000e+00 0.000e+00 0.000e+00 0.000e+00 0.000e+00 0.000e+00\n",
      "  0.000e+00 0.000e+00 0.000e+00 0.000e+00]\n",
      " [1.667e-01 2.167e-01 0.000e+00 6.167e-01 0.000e+00 0.000e+00 0.000e+00\n",
      "  0.000e+00 0.000e+00 0.000e+00 0.000e+00 0.000e+00 0.000e+00 0.000e+00\n",
      "  0.000e+00 0.000e+00 0.000e+00 0.000e+00]\n",
      " [2.410e-02 0.000e+00 3.614e-02 0.000e+00 9.398e-01 0.000e+00 0.000e+00\n",
      "  0.000e+00 0.000e+00 0.000e+00 0.000e+00 0.000e+00 0.000e+00 0.000e+00\n",
      "  0.000e+00 0.000e+00 0.000e+00 0.000e+00]\n",
      " [2.281e-01 0.000e+00 0.000e+00 0.000e+00 0.000e+00 6.447e-01 1.096e-01\n",
      "  1.754e-02 0.000e+00 0.000e+00 0.000e+00 0.000e+00 0.000e+00 0.000e+00\n",
      "  0.000e+00 0.000e+00 0.000e+00 0.000e+00]\n",
      " [1.000e-01 0.000e+00 0.000e+00 0.000e+00 0.000e+00 6.875e-02 8.250e-01\n",
      "  6.250e-03 0.000e+00 0.000e+00 0.000e+00 0.000e+00 0.000e+00 0.000e+00\n",
      "  0.000e+00 0.000e+00 0.000e+00 0.000e+00]\n",
      " [3.900e-01 0.000e+00 0.000e+00 0.000e+00 0.000e+00 4.000e-02 1.000e-02\n",
      "  5.300e-01 3.000e-02 0.000e+00 0.000e+00 0.000e+00 0.000e+00 0.000e+00\n",
      "  0.000e+00 0.000e+00 0.000e+00 0.000e+00]\n",
      " [3.506e-01 0.000e+00 0.000e+00 0.000e+00 0.000e+00 0.000e+00 2.597e-02\n",
      "  1.169e-01 5.065e-01 0.000e+00 0.000e+00 0.000e+00 0.000e+00 0.000e+00\n",
      "  0.000e+00 0.000e+00 0.000e+00 0.000e+00]\n",
      " [2.821e-01 0.000e+00 0.000e+00 0.000e+00 0.000e+00 0.000e+00 0.000e+00\n",
      "  2.564e-02 0.000e+00 4.872e-01 1.026e-01 0.000e+00 2.564e-02 0.000e+00\n",
      "  0.000e+00 0.000e+00 0.000e+00 7.692e-02]\n",
      " [4.048e-01 0.000e+00 0.000e+00 0.000e+00 0.000e+00 0.000e+00 0.000e+00\n",
      "  0.000e+00 0.000e+00 1.429e-01 4.524e-01 0.000e+00 0.000e+00 0.000e+00\n",
      "  0.000e+00 0.000e+00 0.000e+00 0.000e+00]\n",
      " [1.000e-01 0.000e+00 0.000e+00 0.000e+00 0.000e+00 0.000e+00 0.000e+00\n",
      "  1.250e-01 2.500e-02 2.000e-01 7.500e-02 3.750e-01 2.500e-02 0.000e+00\n",
      "  5.000e-02 0.000e+00 0.000e+00 2.500e-02]\n",
      " [1.154e-01 0.000e+00 0.000e+00 0.000e+00 0.000e+00 0.000e+00 0.000e+00\n",
      "  0.000e+00 1.154e-01 3.846e-02 2.308e-01 7.692e-02 4.231e-01 0.000e+00\n",
      "  0.000e+00 0.000e+00 0.000e+00 0.000e+00]\n",
      " [1.642e-01 0.000e+00 0.000e+00 0.000e+00 0.000e+00 0.000e+00 0.000e+00\n",
      "  4.478e-02 1.493e-02 0.000e+00 0.000e+00 5.970e-02 4.478e-02 6.119e-01\n",
      "  4.478e-02 0.000e+00 0.000e+00 1.493e-02]\n",
      " [1.639e-01 0.000e+00 0.000e+00 0.000e+00 0.000e+00 0.000e+00 0.000e+00\n",
      "  3.279e-02 0.000e+00 0.000e+00 0.000e+00 0.000e+00 1.639e-01 1.475e-01\n",
      "  4.918e-01 0.000e+00 0.000e+00 0.000e+00]\n",
      " [6.364e-01 0.000e+00 0.000e+00 0.000e+00 0.000e+00 0.000e+00 0.000e+00\n",
      "  0.000e+00 0.000e+00 0.000e+00 0.000e+00 0.000e+00 0.000e+00 0.000e+00\n",
      "  0.000e+00 3.535e-01 1.010e-02 0.000e+00]\n",
      " [3.186e-01 0.000e+00 0.000e+00 0.000e+00 0.000e+00 3.155e-03 0.000e+00\n",
      "  6.309e-03 6.309e-03 0.000e+00 0.000e+00 0.000e+00 0.000e+00 0.000e+00\n",
      "  0.000e+00 0.000e+00 6.656e-01 0.000e+00]\n",
      " [3.619e-01 0.000e+00 9.524e-03 0.000e+00 0.000e+00 0.000e+00 0.000e+00\n",
      "  0.000e+00 0.000e+00 0.000e+00 1.905e-02 0.000e+00 0.000e+00 0.000e+00\n",
      "  0.000e+00 0.000e+00 0.000e+00 6.095e-01]]\n"
     ]
    },
    {
     "data": {
      "image/png": "[encoded data removed]",
      "text/plain": [
       "<Figure size 432x432 with 2 Axes>"
      ]
     },
     "metadata": {},
     "output_type": "display_data"
    },
    {
     "data": {
      "image/png": "[encoded data removed]",
      "text/plain": [
       "<Figure size 576x576 with 2 Axes>"
      ]
     },
     "metadata": {},
     "output_type": "display_data"
    }
   ],
   "source": [
    "%matplotlib inline\n",
    "import matplotlib.pyplot as plt\n",
    "import itertools\n",
    "from sklearn.metrics import confusion_matrix\n",
    "\n",
    "def plot_confusion_matrix(cm, classes,\n",
    "                          normalize=False,\n",
    "                          title='Confusion matrix',\n",
    "                          cmap=plt.cm.Reds):\n",
    "    \"\"\"\n",
    "    This function prints and plots the confusion matrix.\n",
    "    Normalization can be applied by setting `normalize=True`.\n",
    "    \"\"\"\n",
    "    if normalize:\n",
    "        cm = cm.astype('int') / cm.sum(axis=1)[:, np.newaxis]\n",
    "        print(\"Normalized confusion matrix\")\n",
    "    else:\n",
    "        print('Confusion matrix, without normalization')\n",
    "\n",
    "    print(cm)\n",
    "\n",
    "    plt.imshow(cm, interpolation='nearest', cmap=cmap)\n",
    "    plt.title(title)\n",
    "    plt.colorbar()\n",
    "    tick_marks = np.arange(len(classes))\n",
    "    plt.xticks(tick_marks, classes, rotation=45)\n",
    "    plt.yticks(tick_marks, classes)\n",
    "\n",
    "    fmt = '.2f' if normalize else 'd'\n",
    "    thresh = cm.max() / 2.\n",
    "    for i, j in itertools.product(range(cm.shape[0]), range(cm.shape[1])):\n",
    "        plt.text(j, i, format(cm[i, j], fmt),\n",
    "                 horizontalalignment=\"center\",\n",
    "                 color=\"white\" if cm[i, j] > thresh else \"black\")\n",
    "\n",
    "    plt.tight_layout()\n",
    "    plt.ylabel('True label')\n",
    "    plt.xlabel('Predicted label')\n",
    "    \n",
    "    \n",
    "\n",
    "# Compute confusion matrix\n",
    "cnf_matrix = confusion_matrix(y_test0, foo)\n",
    "np.set_printoptions(precision=3)\n",
    "\n",
    "\n",
    "# Plot non-normalized confusion matrix\n",
    "plt.figure(figsize=(6,6))\n",
    "plot_confusion_matrix(cnf_matrix,classes=[0,1,2,3,4,5,6,7,8,9,10,11,12,13,14,15,16,17],\n",
    "                      title='ConvLSTM on Opportunity (without normalization).jpg')\n",
    "# plt.savefig(\"ConvLSTM on Opportunity (without normalization).jpg\")\n",
    "\n",
    "#Plot normalized confusion matrix\n",
    "plt.figure(figsize=(8,8))\n",
    "plot_confusion_matrix(cnf_matrix, classes=[0,1,2,3,4,5,6,7,8,9,10,11,12,13,14,15,16,17], normalize=True,\n",
    "#                        title='Normalized confusion matrix')\n",
    "                      title='ConvLSTM on Opportunity (with normalization)')\n",
    "plt.savefig(\"f1{}.jpg\".format(metrics.f1_score(y_true=y_test0, y_pred=foo,average=\"macro\")))\n",
    "plt.show()"
   ]
  },
  {
   "cell_type": "code",
   "execution_count": null,
   "metadata": {},
   "outputs": [],
   "source": []
  },
  {
   "cell_type": "code",
   "execution_count": null,
   "metadata": {},
   "outputs": [],
   "source": []
  },
  {
   "cell_type": "code",
   "execution_count": null,
   "metadata": {},
   "outputs": [],
   "source": []
  }
 ],
 "metadata": {
  "kernelspec": {
   "display_name": "Python 3",
   "language": "python",
   "name": "python3"
  },
  "language_info": {
   "codemirror_mode": {
    "name": "ipython",
    "version": 3
   },
   "file_extension": ".py",
   "mimetype": "text/x-python",
   "name": "python",
   "nbconvert_exporter": "python",
   "pygments_lexer": "ipython3",
   "version": "3.6.5"
  },
  "varInspector": {
   "cols": {
    "lenName": 16,
    "lenType": 16,
    "lenVar": 40
   },
   "kernels_config": {
    "python": {
     "delete_cmd_postfix": "",
     "delete_cmd_prefix": "del ",
     "library": "var_list.py",
     "varRefreshCmd": "print(var_dic_list())"
    },
    "r": {
     "delete_cmd_postfix": ") ",
     "delete_cmd_prefix": "rm(",
     "library": "var_list.r",
     "varRefreshCmd": "cat(var_dic_list()) "
    }
   },
   "types_to_exclude": [
    "module",
    "function",
    "builtin_function_or_method",
    "instance",
    "_Feature"
   ],
   "window_display": false
  }
 },
 "nbformat": 4,
 "nbformat_minor": 2
}
