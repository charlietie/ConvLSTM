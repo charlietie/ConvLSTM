{
 "cells": [
  {
   "cell_type": "markdown",
   "metadata": {},
   "source": [
    "# ConvLstm examples on Opportunity Dataset -` 2-modality data` \n"
   ]
  },
  {
   "cell_type": "code",
   "execution_count": 66,
   "metadata": {},
   "outputs": [],
   "source": [
    "import numpy as np\n",
    "import scipy.io # load the matrix file\n",
    "import pickle as cp\n",
    " \n",
    "import keras\n",
    "from keras.utils import to_categorical\n",
    "from keras.models import Sequential\n",
    "from keras.layers import Conv2D, MaxPooling2D, LSTM, Dense, Dropout, Flatten\n",
    "from keras.layers.core import Permute, Reshape\n",
    "from keras import backend as K\n",
    "from keras.callbacks import TensorBoard \n",
    "from keras import metrics\n",
    "\n",
    "from sklearn.model_selection import train_test_split\n",
    "# example: X_train, X_test, y_train, y_test = train_test_split(X, y, test_size=0.33)\n"
   ]
  },
  {
   "cell_type": "markdown",
   "metadata": {},
   "source": [
    "# 1. Prepare the dataset `OPPORTUNITY Activity Recognition Data Set ` "
   ]
  },
  {
   "cell_type": "markdown",
   "metadata": {},
   "source": [
    "## 1. Wearable Sensor Data"
   ]
  },
  {
   "cell_type": "code",
   "execution_count": 67,
   "metadata": {
    "scrolled": true
   },
   "outputs": [
    {
     "name": "stdout",
     "output_type": "stream",
     "text": [
      "Loading data...\n",
      " ..from file C:/Users/41762/Dropbox/Dataset/Opportunity/wearable_113_ambient_40_gestures_new.data\n",
      " ..reading instances: X_train (557963, 153), X_test (118750, 153)\n",
      " ..reading instances: y_train (557963,), y_test (118750,)\n",
      "Successfully\n"
     ]
    }
   ],
   "source": [
    "\n",
    "def load_dataset(filename):\n",
    "    \"\"\"\n",
    "    Function to load dataset \n",
    "    \n",
    "    Argument:\n",
    "        filename : the path of the preprocessed dataset\n",
    "    \n",
    "    Return:\n",
    "    \n",
    "        X_train\n",
    "        y_train\n",
    "        X_test\n",
    "        y_test\n",
    "        \n",
    "    Notice:\n",
    "        Need use `pickle(python3)` or`cpicckle(python2)` module to load and read dataset.\n",
    "        \n",
    "    \n",
    "    \"\"\"\n",
    "\n",
    "    f = open(filename, 'rb')\n",
    "    data = cp.load(f)\n",
    "    f.close()\n",
    "\n",
    "    X_train, y_train = data[0]\n",
    "    X_test, y_test = data[1]\n",
    "\n",
    "    print(\" ..from file {}\".format(filename))\n",
    "    print(\" ..reading instances: X_train {0}, X_test {1}\".format(X_train.shape, X_test.shape))\n",
    "    print(\" ..reading instances: y_train {0}, y_test {1}\".format(y_train.shape, y_test.shape))\n",
    "\n",
    "    X_train = X_train.astype(np.float32)\n",
    "    X_test = X_test.astype(np.float32)\n",
    "\n",
    "    # The targets are casted to int8 for GPU compatibility.\n",
    "    y_train = y_train.astype(np.uint8)\n",
    "    y_test = y_test.astype(np.uint8)\n",
    "\n",
    "    return X_train, y_train, X_test, y_test\n",
    "\n",
    "print(\"Loading data...\")\n",
    "X_train, y_train, X_test, y_test = load_dataset('C:/Users/41762/Dropbox/Dataset/Opportunity/wearable_113_ambient_40_gestures_new.data')\n",
    "print(\"Successfully\")\n"
   ]
  },
  {
   "cell_type": "code",
   "execution_count": 68,
   "metadata": {},
   "outputs": [
    {
     "name": "stdout",
     "output_type": "stream",
     "text": [
      "17 activities and 1 NaN classes\n"
     ]
    }
   ],
   "source": [
    "y_train.max()\n",
    "print(\"17 activities and 1 NaN classes\")"
   ]
  },
  {
   "cell_type": "code",
   "execution_count": 69,
   "metadata": {},
   "outputs": [],
   "source": [
    "# Opportunity num_classes = 18\n",
    "num_classes = 18"
   ]
  },
  {
   "cell_type": "code",
   "execution_count": 70,
   "metadata": {},
   "outputs": [],
   "source": [
    "y_train0 = to_categorical(y_train,num_classes=num_classes)\n",
    "y_test0 = to_categorical(y_test,num_classes)"
   ]
  },
  {
   "cell_type": "code",
   "execution_count": 71,
   "metadata": {},
   "outputs": [
    {
     "name": "stdout",
     "output_type": "stream",
     "text": [
      "(23248, 24, 153)\n",
      "(557963, 18)\n"
     ]
    }
   ],
   "source": [
    "print(X_train0.shape)\n",
    "print(y_train0.shape)"
   ]
  },
  {
   "cell_type": "markdown",
   "metadata": {},
   "source": [
    "# 2.Now, we have `X_train, A_train, X_test, A_test, y_train, y_test`\n",
    "\n",
    "## 很显然我们需要用`sliding_window `来处理 `X_train` 和 `y_train` ，`A_train`&`A_test` to get the features\n",
    "    1.参考Kronecker Product fusion method 来实验\n",
    "        - 实验只用raw feature\n",
    "        - 对比混合了attribute 的方法\n",
    "    2. define `sliding_window`\n",
    "    3. using sliding_window to process raw data into (rows,window_size,dimensions)\n"
   ]
  },
  {
   "cell_type": "code",
   "execution_count": 72,
   "metadata": {},
   "outputs": [],
   "source": [
    "import numpy as np\n",
    "\n",
    "'''\n",
    "For time-series data only\n",
    "win_len: how many samples do you want \n",
    "sliding_step: how many overlap do you want?\n",
    "\n",
    "'''\n",
    "\n",
    "\n",
    "\n",
    "def sliding_window(data,win_len,sliding_step,flatten=None):\n",
    "    if len( data.shape )==1:\n",
    "        # data = np.reshape(data,(data.shape[0],1))\n",
    "        n_samples =  data.shape[0]\n",
    "        dim=1\n",
    "        n_windows = n_samples//sliding_step\n",
    "        shape = (n_windows,win_len,)\n",
    "        strides = data.itemsize*np.array([sliding_step*dim,dim,])\n",
    "        result = np.lib.stride_tricks.as_strided(data, shape=shape, strides=strides)\n",
    "        # result = np.expand_dims(result,axis=2)\n",
    "        # result = np.reshape(result,(n_windows,sliding_step,1))\n",
    "        print(\"Shape : {0} ---> {1} \".format(data.shape,result.shape))\n",
    "        return result\n",
    "    if len(data.shape)!=1:\n",
    "        n_samples,dim = data.shape\n",
    "        n_windows = n_samples // sliding_step\n",
    "        shape = (n_windows,win_len,dim)\n",
    "        strides = data.itemsize * np.array([sliding_step * dim,dim,1])\n",
    "        result = np.lib.stride_tricks.as_strided(data, shape=shape, strides=strides)\n",
    "        print(\"Shape : {0} ---> {1} \".format(data.shape, result.shape))\n",
    "        return result\n"
   ]
  },
  {
   "cell_type": "code",
   "execution_count": 73,
   "metadata": {},
   "outputs": [
    {
     "name": "stdout",
     "output_type": "stream",
     "text": [
      "Shape : (557963, 153) ---> (23248, 24, 153) \n",
      "Shape : (557963, 18) ---> (23248, 24, 18) \n",
      "Shape : (118750, 153) ---> (4947, 24, 153) \n",
      "Shape : (118750, 18) ---> (4947, 24, 18) \n"
     ]
    }
   ],
   "source": [
    "\n",
    "SLIDING_WINDOW_LENGTH = 24\n",
    "SLIDING_WINDOW_STEP = 24\n",
    "\n",
    "X_train0= sliding_window(X_train, SLIDING_WINDOW_LENGTH, SLIDING_WINDOW_STEP)\n",
    "y_train0 = sliding_window(y_train0,SLIDING_WINDOW_LENGTH, SLIDING_WINDOW_STEP)\n",
    "X_test0= sliding_window(X_test, SLIDING_WINDOW_LENGTH, SLIDING_WINDOW_STEP)\n",
    "y_test0 = sliding_window(y_test0, SLIDING_WINDOW_LENGTH, SLIDING_WINDOW_STEP)\n",
    "\n"
   ]
  },
  {
   "cell_type": "code",
   "execution_count": null,
   "metadata": {},
   "outputs": [],
   "source": []
  },
  {
   "cell_type": "code",
   "execution_count": null,
   "metadata": {},
   "outputs": [],
   "source": []
  },
  {
   "cell_type": "code",
   "execution_count": 74,
   "metadata": {},
   "outputs": [
    {
     "data": {
      "text/plain": [
       "(4947, 24, 113)"
      ]
     },
     "execution_count": 74,
     "metadata": {},
     "output_type": "execute_result"
    }
   ],
   "source": [
    "y_test0.shape\n",
    "y_train0.shape\n",
    "# X_train0 = X_train0[:,:,0:113]\n",
    "# X_test0 = X_test0[:,:,0:113]\n",
    "\n",
    "F_train = X_train0[:,:,:113]\n",
    "F_test = X_test0[:,:,:113]\n",
    "X_train0.shape\n",
    "F_test.shape\n"
   ]
  },
  {
   "cell_type": "markdown",
   "metadata": {},
   "source": [
    "# 2. Define the `ConvLstm` Model(113 fetures)"
   ]
  },
  {
   "cell_type": "code",
   "execution_count": 75,
   "metadata": {},
   "outputs": [],
   "source": [
    "def model_variant(model, num_feat_map, dim, network_type):\n",
    "    print(network_type)\n",
    "    if network_type == 'ConvLSTM':\n",
    "        model.add(Permute((2, 1, 3))) # for swap-dimension\n",
    "        model.add(Reshape((-1,num_feat_map*dim)))\n",
    "        model.add(LSTM(128, return_sequences=True, stateful=False))\n",
    "        model.add(Dropout(0.2))\n",
    "    if network_type == 'CNN':\n",
    "         \n",
    "        model.add(Flatten())\n",
    "        model.add(Dense(32, activation='relu'))\n",
    "        model.add(Dropout(0.2))\n",
    "\n",
    "def model_conv(model, num_feat_map):\n",
    "    model.add(Conv2D(num_feat_map, kernel_size=(1, 5),\n",
    "                 activation='relu',\n",
    "                 input_shape=(dim, win_len, 1),\n",
    "                 padding='same'))\n",
    "    \n",
    "    model.add(MaxPooling2D(pool_size=(1, 1)))\n",
    "    model.add(Dropout(0.2))\n",
    "    model.add(Conv2D(num_feat_map, \n",
    "                     kernel_size=(1, 5), \n",
    "                     activation='relu',\n",
    "                     padding='same'))\n",
    "    \n",
    "    model.add(MaxPooling2D(pool_size=(1, 1)))\n",
    "    model.add(Dropout(0.2))\n",
    "     \n",
    "\n",
    "def model_LSTM(model):\n",
    "    model.add(LSTM(num_hidden_lstm, \n",
    "               input_shape=(win_len,dim), \n",
    "               return_sequences=True))\n",
    "    model.add(Dropout(0.2))\n",
    "    model.add(LSTM(num_hidden_lstm, return_sequences=False))\n",
    "    model.add(Dropout(0.2))\n",
    "\n",
    "# def model_LSTM(model):\n",
    "    \n",
    "\n",
    "# ### def model_MLP(model, num_hidden_mlp):\n",
    "#     model.add(Dense(num_hidden_mlp, activation='relu', input_shape=(dim*win_len,)))\n",
    "#     model.add(Dropout(0.5))\n",
    "#     model.add(Dense(num_hidden_mlp, activation='relu'))\n",
    "#     model.add(Dropout(0.5))\n",
    "\n",
    "def model_output(model):\n",
    "    model.add(Dense(num_classes, activation='softmax'))"
   ]
  },
  {
   "cell_type": "code",
   "execution_count": 76,
   "metadata": {},
   "outputs": [],
   "source": [
    "batch_size = 128\n",
    "num_feat_map = 16\n",
    "num_hidden_mlp = 128\n",
    "num_hidden_lstm = 128\n",
    "\n"
   ]
  },
  {
   "cell_type": "code",
   "execution_count": 77,
   "metadata": {},
   "outputs": [],
   "source": [
    "network_type = 'ConvLSTM'"
   ]
  },
  {
   "cell_type": "code",
   "execution_count": 78,
   "metadata": {},
   "outputs": [],
   "source": [
    "\n",
    "_, win_len, dim = F_train.shape\n"
   ]
  },
  {
   "cell_type": "code",
   "execution_count": 79,
   "metadata": {},
   "outputs": [
    {
     "data": {
      "text/plain": [
       "(23248, 24, 113)"
      ]
     },
     "execution_count": 79,
     "metadata": {},
     "output_type": "execute_result"
    }
   ],
   "source": [
    "F_train.shape"
   ]
  },
  {
   "cell_type": "code",
   "execution_count": 80,
   "metadata": {},
   "outputs": [],
   "source": [
    "def _data_reshaping(X_tr, X_va, network_type):\n",
    "    _, win_len, dim = X_tr.shape\n",
    "    print(network_type)\n",
    "    if network_type=='CNN' or network_type=='ConvLSTM':\n",
    "         \n",
    "        # make it into (frame_number, dimension, window_size, channel=1) for convNet\n",
    "        X_tr = np.swapaxes(X_tr,1,2)\n",
    "        X_va = np.swapaxes(X_va,1,2)\n",
    " \n",
    "        X_tr = np.reshape(X_tr, (-1, dim, win_len, 1))\n",
    "        X_va = np.reshape(X_va, (-1, dim, win_len, 1))\n",
    "         \n",
    "    if network_type=='MLP':\n",
    "        print('MLP...')\n",
    "        X_tr = np.reshape(X_tr, (-1, dim*win_len))\n",
    "        X_va = np.reshape(X_va, (-1, dim*win_len))\n",
    "     \n",
    "    return X_tr, X_va"
   ]
  },
  {
   "cell_type": "code",
   "execution_count": 81,
   "metadata": {},
   "outputs": [
    {
     "name": "stdout",
     "output_type": "stream",
     "text": [
      "ConvLSTM\n",
      "F_test shape = (118750, 153)\n"
     ]
    }
   ],
   "source": [
    "F_train, F_test = _data_reshaping(F_train, F_test, network_type)\n",
    "print('F_test shape = ' + str(X_test.shape))"
   ]
  },
  {
   "cell_type": "code",
   "execution_count": 82,
   "metadata": {},
   "outputs": [
    {
     "name": "stdout",
     "output_type": "stream",
     "text": [
      "(23248, 113, 24, 1)\n"
     ]
    }
   ],
   "source": [
    "print(F_train.shape)"
   ]
  },
  {
   "cell_type": "code",
   "execution_count": 83,
   "metadata": {},
   "outputs": [],
   "source": [
    "model = Sequential()"
   ]
  },
  {
   "cell_type": "code",
   "execution_count": 84,
   "metadata": {},
   "outputs": [
    {
     "name": "stdout",
     "output_type": "stream",
     "text": [
      "ConvLSTM\n"
     ]
    }
   ],
   "source": [
    "if network_type=='CNN' or network_type=='ConvLSTM':\n",
    "    model_conv(model, num_feat_map)\n",
    "    model_variant(model, num_feat_map, dim, network_type)\n",
    "if network_type=='LSTM':\n",
    "    model_LSTM(model)\n",
    "if network_type=='MLP': \n",
    "    model_MLP(model, num_hidden_mlp) \n",
    "    "
   ]
  },
  {
   "cell_type": "code",
   "execution_count": 85,
   "metadata": {
    "scrolled": true
   },
   "outputs": [
    {
     "name": "stdout",
     "output_type": "stream",
     "text": [
      "(23248, 24, 153)\n",
      "_________________________________________________________________\n",
      "Layer (type)                 Output Shape              Param #   \n",
      "=================================================================\n",
      "conv2d_3 (Conv2D)            (None, 113, 24, 16)       96        \n",
      "_________________________________________________________________\n",
      "max_pooling2d_3 (MaxPooling2 (None, 113, 24, 16)       0         \n",
      "_________________________________________________________________\n",
      "dropout_4 (Dropout)          (None, 113, 24, 16)       0         \n",
      "_________________________________________________________________\n",
      "conv2d_4 (Conv2D)            (None, 113, 24, 16)       1296      \n",
      "_________________________________________________________________\n",
      "max_pooling2d_4 (MaxPooling2 (None, 113, 24, 16)       0         \n",
      "_________________________________________________________________\n",
      "dropout_5 (Dropout)          (None, 113, 24, 16)       0         \n",
      "_________________________________________________________________\n",
      "permute_2 (Permute)          (None, 24, 113, 16)       0         \n",
      "_________________________________________________________________\n",
      "reshape_2 (Reshape)          (None, 24, 1808)          0         \n",
      "_________________________________________________________________\n",
      "lstm_2 (LSTM)                (None, 24, 128)           991744    \n",
      "_________________________________________________________________\n",
      "dropout_6 (Dropout)          (None, 24, 128)           0         \n",
      "_________________________________________________________________\n",
      "dense_2 (Dense)              (None, 24, 18)            2322      \n",
      "=================================================================\n",
      "Total params: 995,458\n",
      "Trainable params: 995,458\n",
      "Non-trainable params: 0\n",
      "_________________________________________________________________\n"
     ]
    }
   ],
   "source": [
    "print(X_train0.shape)\n",
    "model_output(model)    \n",
    "model.summary()"
   ]
  },
  {
   "cell_type": "markdown",
   "metadata": {},
   "source": [
    "# 3. Compile the model\n",
    "- Chose `F1-Score` and `Cross-entropy Loss` and `Confusion Matrix` as the metrics"
   ]
  },
  {
   "cell_type": "code",
   "execution_count": 86,
   "metadata": {
    "scrolled": true
   },
   "outputs": [
    {
     "name": "stdout",
     "output_type": "stream",
     "text": [
      "(4947, 113, 24, 1)\n",
      "(4947, 24, 18)\n",
      "(23248, 113, 24, 1)\n",
      "(23248, 24, 18)\n"
     ]
    }
   ],
   "source": [
    "import keras.metrics\n",
    "model.compile(loss=keras.losses.categorical_crossentropy,\n",
    "              optimizer=keras.optimizers.Adam(),\n",
    "              metrics=['accuracy'])\n",
    "\n",
    "# tensorboardCallBack = TensorBoard(log_dir='./Opportunity-Graph', histogram_freq=0, write_graph=True, write_images=True)\n",
    "\n",
    "print(F_test.shape)\n",
    "print(y_test0.shape)\n",
    "print(F_train.shape)\n",
    "print(y_train0.shape)"
   ]
  },
  {
   "cell_type": "markdown",
   "metadata": {},
   "source": [
    "### 113 features outputs\n",
    "- 0.63"
   ]
  },
  {
   "cell_type": "code",
   "execution_count": 87,
   "metadata": {},
   "outputs": [
    {
     "data": {
      "text/plain": [
       "(118750,)"
      ]
     },
     "execution_count": 87,
     "metadata": {},
     "output_type": "execute_result"
    }
   ],
   "source": [
    "y_test.shape"
   ]
  },
  {
   "cell_type": "code",
   "execution_count": 89,
   "metadata": {
    "scrolled": false
   },
   "outputs": [
    {
     "name": "stdout",
     "output_type": "stream",
     "text": [
      "Train on 23248 samples, validate on 4947 samples\n",
      "Epoch 1/1\n",
      "23248/23248 [==============================] - 13s 548us/step - loss: 0.0634 - acc: 0.9772 - val_loss: 0.4778 - val_acc: 0.9051\n",
      "\tTest f1 score(macro):\t0.6002 \n",
      "Train on 23248 samples, validate on 4947 samples\n",
      "Epoch 1/1\n",
      "23248/23248 [==============================] - 13s 551us/step - loss: 0.0716 - acc: 0.9747 - val_loss: 0.4765 - val_acc: 0.8982\n",
      "\tTest f1 score(macro):\t0.6121 \n",
      "Train on 23248 samples, validate on 4947 samples\n",
      "Epoch 1/1\n",
      "23248/23248 [==============================] - 13s 550us/step - loss: 0.0564 - acc: 0.9797 - val_loss: 0.4779 - val_acc: 0.9024\n",
      "\tTest f1 score(macro):\t0.6159 \n",
      "Train on 23248 samples, validate on 4947 samples\n",
      "Epoch 1/1\n",
      "23248/23248 [==============================] - 13s 549us/step - loss: 0.0543 - acc: 0.9806 - val_loss: 0.5026 - val_acc: 0.9023\n",
      "\tTest f1 score(macro):\t0.5969 \n",
      "Train on 23248 samples, validate on 4947 samples\n",
      "Epoch 1/1\n",
      "23248/23248 [==============================] - 13s 552us/step - loss: 0.0625 - acc: 0.9780 - val_loss: 0.5091 - val_acc: 0.8918\n",
      "\tTest f1 score(macro):\t0.5928 \n",
      "Train on 23248 samples, validate on 4947 samples\n",
      "Epoch 1/1\n",
      "23248/23248 [==============================] - 13s 547us/step - loss: 0.0671 - acc: 0.9761 - val_loss: 0.4892 - val_acc: 0.9007\n",
      "\tTest f1 score(macro):\t0.6073 \n",
      "Train on 23248 samples, validate on 4947 samples\n",
      "Epoch 1/1\n",
      "23248/23248 [==============================] - 13s 548us/step - loss: 0.0578 - acc: 0.9794 - val_loss: 0.5020 - val_acc: 0.8989\n",
      "\tTest f1 score(macro):\t0.6029 \n",
      "Train on 23248 samples, validate on 4947 samples\n",
      "Epoch 1/1\n",
      "23248/23248 [==============================] - 13s 552us/step - loss: 0.0537 - acc: 0.9809 - val_loss: 0.4888 - val_acc: 0.9075\n",
      "\tTest f1 score(macro):\t0.6236 \n",
      "Train on 23248 samples, validate on 4947 samples\n",
      "Epoch 1/1\n",
      "23248/23248 [==============================] - 13s 548us/step - loss: 0.0498 - acc: 0.9823 - val_loss: 0.5272 - val_acc: 0.9032\n",
      "\tTest f1 score(macro):\t0.6106 \n",
      "Train on 23248 samples, validate on 4947 samples\n",
      "Epoch 1/1\n",
      "23248/23248 [==============================] - 13s 560us/step - loss: 0.0516 - acc: 0.9817 - val_loss: 0.5264 - val_acc: 0.8988\n",
      "\tTest f1 score(macro):\t0.5980 \n",
      "Train on 23248 samples, validate on 4947 samples\n",
      "Epoch 1/1\n",
      "23248/23248 [==============================] - 13s 548us/step - loss: 0.0656 - acc: 0.9770 - val_loss: 0.5039 - val_acc: 0.8987\n",
      "\tTest f1 score(macro):\t0.6043 \n",
      "Train on 23248 samples, validate on 4947 samples\n",
      "Epoch 1/1\n",
      "23248/23248 [==============================] - 13s 546us/step - loss: 0.0554 - acc: 0.9802 - val_loss: 0.5479 - val_acc: 0.8871\n",
      "\tTest f1 score(macro):\t0.5777 \n",
      "Train on 23248 samples, validate on 4947 samples\n",
      "Epoch 1/1\n",
      "23248/23248 [==============================] - 13s 547us/step - loss: 0.0564 - acc: 0.9800 - val_loss: 0.4983 - val_acc: 0.9020\n",
      "\tTest f1 score(macro):\t0.6171 \n",
      "Train on 23248 samples, validate on 4947 samples\n",
      "Epoch 1/1\n",
      "23248/23248 [==============================] - 13s 545us/step - loss: 0.0528 - acc: 0.9813 - val_loss: 0.4940 - val_acc: 0.9069\n",
      "\tTest f1 score(macro):\t0.6157 \n",
      "Train on 23248 samples, validate on 4947 samples\n",
      "Epoch 1/1\n",
      "23248/23248 [==============================] - 13s 548us/step - loss: 0.0530 - acc: 0.9810 - val_loss: 0.5083 - val_acc: 0.9025\n",
      "\tTest f1 score(macro):\t0.5994 \n",
      "Train on 23248 samples, validate on 4947 samples\n",
      "Epoch 1/1\n",
      "23248/23248 [==============================] - 13s 550us/step - loss: 0.0440 - acc: 0.9842 - val_loss: 0.5180 - val_acc: 0.9028\n",
      "\tTest f1 score(macro):\t0.6232 \n",
      "Train on 23248 samples, validate on 4947 samples\n",
      "Epoch 1/1\n",
      "23248/23248 [==============================] - 13s 546us/step - loss: 0.0504 - acc: 0.9819 - val_loss: 0.5476 - val_acc: 0.8998\n",
      "\tTest f1 score(macro):\t0.5935 \n",
      "Train on 23248 samples, validate on 4947 samples\n",
      "Epoch 1/1\n",
      "23248/23248 [==============================] - 13s 548us/step - loss: 0.0683 - acc: 0.9758 - val_loss: 0.5419 - val_acc: 0.8999\n",
      "\tTest f1 score(macro):\t0.5982 \n",
      "Train on 23248 samples, validate on 4947 samples\n",
      "Epoch 1/1\n",
      "23248/23248 [==============================] - 13s 547us/step - loss: 0.0520 - acc: 0.9813 - val_loss: 0.5333 - val_acc: 0.9003\n",
      "\tTest f1 score(macro):\t0.5988 \n",
      "Train on 23248 samples, validate on 4947 samples\n",
      "Epoch 1/1\n",
      "23248/23248 [==============================] - 13s 549us/step - loss: 0.0458 - acc: 0.9836 - val_loss: 0.5338 - val_acc: 0.9038\n",
      "\tTest f1 score(macro):\t0.6009 \n",
      "Train on 23248 samples, validate on 4947 samples\n",
      "Epoch 1/1\n",
      "23248/23248 [==============================] - 13s 551us/step - loss: 0.0492 - acc: 0.9825 - val_loss: 0.4943 - val_acc: 0.9003\n",
      "\tTest f1 score(macro):\t0.6026 \n",
      "Train on 23248 samples, validate on 4947 samples\n",
      "Epoch 1/1\n",
      "23248/23248 [==============================] - 13s 551us/step - loss: 0.0480 - acc: 0.9830 - val_loss: 0.5124 - val_acc: 0.8978\n",
      "\tTest f1 score(macro):\t0.6027 \n",
      "Train on 23248 samples, validate on 4947 samples\n",
      "Epoch 1/1\n",
      "23248/23248 [==============================] - 13s 546us/step - loss: 0.0447 - acc: 0.9837 - val_loss: 0.5399 - val_acc: 0.8987\n",
      "\tTest f1 score(macro):\t0.6077 \n",
      "Train on 23248 samples, validate on 4947 samples\n",
      "Epoch 1/1\n",
      "23248/23248 [==============================] - 13s 548us/step - loss: 0.0476 - acc: 0.9828 - val_loss: 0.5265 - val_acc: 0.8982\n",
      "\tTest f1 score(macro):\t0.6028 \n",
      "Train on 23248 samples, validate on 4947 samples\n",
      "Epoch 1/1\n",
      "23248/23248 [==============================] - 13s 548us/step - loss: 0.0429 - acc: 0.9845 - val_loss: 0.5570 - val_acc: 0.9013\n",
      "\tTest f1 score(macro):\t0.6148 \n",
      "Train on 23248 samples, validate on 4947 samples\n",
      "Epoch 1/1\n",
      "23248/23248 [==============================] - 13s 553us/step - loss: 0.0404 - acc: 0.9854 - val_loss: 0.5614 - val_acc: 0.9062\n",
      "\tTest f1 score(macro):\t0.6269 \n",
      "Train on 23248 samples, validate on 4947 samples\n",
      "Epoch 1/1\n",
      "23248/23248 [==============================] - 13s 553us/step - loss: 0.0534 - acc: 0.9811 - val_loss: 0.5520 - val_acc: 0.8966\n",
      "\tTest f1 score(macro):\t0.5904 \n",
      "Train on 23248 samples, validate on 4947 samples\n",
      "Epoch 1/1\n",
      "23248/23248 [==============================] - 13s 550us/step - loss: 0.0496 - acc: 0.9825 - val_loss: 0.5403 - val_acc: 0.9024\n",
      "\tTest f1 score(macro):\t0.6120 \n",
      "Train on 23248 samples, validate on 4947 samples\n",
      "Epoch 1/1\n",
      "23248/23248 [==============================] - 13s 549us/step - loss: 0.0583 - acc: 0.9797 - val_loss: 0.5019 - val_acc: 0.8993\n",
      "\tTest f1 score(macro):\t0.5904 \n",
      "Train on 23248 samples, validate on 4947 samples\n",
      "Epoch 1/1\n",
      "23248/23248 [==============================] - 13s 552us/step - loss: 0.0498 - acc: 0.9822 - val_loss: 0.5497 - val_acc: 0.9003\n",
      "\tTest f1 score(macro):\t0.6047 \n",
      "Train on 23248 samples, validate on 4947 samples\n",
      "Epoch 1/1\n",
      "23248/23248 [==============================] - 13s 555us/step - loss: 0.0406 - acc: 0.9855 - val_loss: 0.5637 - val_acc: 0.9012\n",
      "\tTest f1 score(macro):\t0.6051 \n",
      "Train on 23248 samples, validate on 4947 samples\n",
      "Epoch 1/1\n",
      "23248/23248 [==============================] - 13s 551us/step - loss: 0.0497 - acc: 0.9825 - val_loss: 0.5223 - val_acc: 0.8996\n",
      "\tTest f1 score(macro):\t0.6099 \n",
      "Train on 23248 samples, validate on 4947 samples\n",
      "Epoch 1/1\n",
      "23248/23248 [==============================] - 13s 561us/step - loss: 0.0455 - acc: 0.9838 - val_loss: 0.5466 - val_acc: 0.8993\n",
      "\tTest f1 score(macro):\t0.6044 \n",
      "Train on 23248 samples, validate on 4947 samples\n",
      "Epoch 1/1\n",
      "23248/23248 [==============================] - 13s 571us/step - loss: 0.0375 - acc: 0.9864 - val_loss: 0.5693 - val_acc: 0.8966\n",
      "\tTest f1 score(macro):\t0.6051 \n",
      "Train on 23248 samples, validate on 4947 samples\n",
      "Epoch 1/1\n",
      "23248/23248 [==============================] - 13s 555us/step - loss: 0.0400 - acc: 0.9855 - val_loss: 0.5547 - val_acc: 0.9032\n",
      "\tTest f1 score(macro):\t0.6052 \n",
      "Train on 23248 samples, validate on 4947 samples\n",
      "Epoch 1/1\n",
      "23248/23248 [==============================] - 13s 551us/step - loss: 0.0438 - acc: 0.9845 - val_loss: 0.5755 - val_acc: 0.9004\n",
      "\tTest f1 score(macro):\t0.6015 \n",
      "Train on 23248 samples, validate on 4947 samples\n",
      "Epoch 1/1\n",
      "23248/23248 [==============================] - 13s 552us/step - loss: 0.0359 - acc: 0.9870 - val_loss: 0.5637 - val_acc: 0.9019\n",
      "\tTest f1 score(macro):\t0.6098 \n",
      "Train on 23248 samples, validate on 4947 samples\n",
      "Epoch 1/1\n"
     ]
    },
    {
     "name": "stdout",
     "output_type": "stream",
     "text": [
      "23248/23248 [==============================] - 13s 552us/step - loss: 0.0479 - acc: 0.9835 - val_loss: 0.5593 - val_acc: 0.8969\n",
      "\tTest f1 score(macro):\t0.5798 \n",
      "Train on 23248 samples, validate on 4947 samples\n",
      "Epoch 1/1\n",
      "23248/23248 [==============================] - 13s 556us/step - loss: 0.0476 - acc: 0.9831 - val_loss: 0.5366 - val_acc: 0.8984\n",
      "\tTest f1 score(macro):\t0.5905 \n",
      "Train on 23248 samples, validate on 4947 samples\n",
      "Epoch 1/1\n",
      "23248/23248 [==============================] - 13s 547us/step - loss: 0.0757 - acc: 0.9740 - val_loss: 0.5048 - val_acc: 0.9037\n",
      "\tTest f1 score(macro):\t0.6083 \n",
      "Train on 23248 samples, validate on 4947 samples\n",
      "Epoch 1/1\n",
      "23248/23248 [==============================] - 13s 549us/step - loss: 0.0432 - acc: 0.9845 - val_loss: 0.5354 - val_acc: 0.9029\n",
      "\tTest f1 score(macro):\t0.6235 \n",
      "Train on 23248 samples, validate on 4947 samples\n",
      "Epoch 1/1\n",
      " 6784/23248 [=======>......................] - ETA: 8s - loss: 0.0354 - acc: 0.9873"
     ]
    },
    {
     "ename": "KeyboardInterrupt",
     "evalue": "",
     "traceback": [
      "\u001b[1;31m---------------------------------------------------------------------------\u001b[0m",
      "\u001b[1;31mKeyboardInterrupt\u001b[0m                         Traceback (most recent call last)",
      "\u001b[1;32m<ipython-input-89-341bf4aadadb>\u001b[0m in \u001b[0;36m<module>\u001b[1;34m()\u001b[0m\n\u001b[0;32m      7\u001b[0m                 \u001b[0mverbose\u001b[0m\u001b[1;33m=\u001b[0m\u001b[1;36m1\u001b[0m\u001b[1;33m,\u001b[0m\u001b[1;33m\u001b[0m\u001b[0m\n\u001b[0;32m      8\u001b[0m                 \u001b[0mshuffle\u001b[0m\u001b[1;33m=\u001b[0m\u001b[1;32mTrue\u001b[0m\u001b[1;33m,\u001b[0m\u001b[1;33m\u001b[0m\u001b[0m\n\u001b[1;32m----> 9\u001b[1;33m                 \u001b[0mvalidation_data\u001b[0m\u001b[1;33m=\u001b[0m\u001b[1;33m(\u001b[0m\u001b[0mF_test\u001b[0m\u001b[1;33m,\u001b[0m \u001b[0my_test0\u001b[0m\u001b[1;33m)\u001b[0m\u001b[1;33m\u001b[0m\u001b[0m\n\u001b[0m\u001b[0;32m     10\u001b[0m     \u001b[1;31m#             callbacks=[tensorboardCallBack]\u001b[0m\u001b[1;33m\u001b[0m\u001b[1;33m\u001b[0m\u001b[0m\n\u001b[0;32m     11\u001b[0m                  )\n",
      "\u001b[1;32m~\\Anaconda2\\lib\\site-packages\\keras\\engine\\training.py\u001b[0m in \u001b[0;36mfit\u001b[1;34m(self, x, y, batch_size, epochs, verbose, callbacks, validation_split, validation_data, shuffle, class_weight, sample_weight, initial_epoch, steps_per_epoch, validation_steps, **kwargs)\u001b[0m\n\u001b[0;32m   1040\u001b[0m                                         \u001b[0minitial_epoch\u001b[0m\u001b[1;33m=\u001b[0m\u001b[0minitial_epoch\u001b[0m\u001b[1;33m,\u001b[0m\u001b[1;33m\u001b[0m\u001b[0m\n\u001b[0;32m   1041\u001b[0m                                         \u001b[0msteps_per_epoch\u001b[0m\u001b[1;33m=\u001b[0m\u001b[0msteps_per_epoch\u001b[0m\u001b[1;33m,\u001b[0m\u001b[1;33m\u001b[0m\u001b[0m\n\u001b[1;32m-> 1042\u001b[1;33m                                         validation_steps=validation_steps)\n\u001b[0m\u001b[0;32m   1043\u001b[0m \u001b[1;33m\u001b[0m\u001b[0m\n\u001b[0;32m   1044\u001b[0m     def evaluate(self, x=None, y=None,\n",
      "\u001b[1;32m~\\Anaconda2\\lib\\site-packages\\keras\\engine\\training_arrays.py\u001b[0m in \u001b[0;36mfit_loop\u001b[1;34m(model, f, ins, out_labels, batch_size, epochs, verbose, callbacks, val_f, val_ins, shuffle, callback_metrics, initial_epoch, steps_per_epoch, validation_steps)\u001b[0m\n\u001b[0;32m    197\u001b[0m                     \u001b[0mins_batch\u001b[0m\u001b[1;33m[\u001b[0m\u001b[0mi\u001b[0m\u001b[1;33m]\u001b[0m \u001b[1;33m=\u001b[0m \u001b[0mins_batch\u001b[0m\u001b[1;33m[\u001b[0m\u001b[0mi\u001b[0m\u001b[1;33m]\u001b[0m\u001b[1;33m.\u001b[0m\u001b[0mtoarray\u001b[0m\u001b[1;33m(\u001b[0m\u001b[1;33m)\u001b[0m\u001b[1;33m\u001b[0m\u001b[0m\n\u001b[0;32m    198\u001b[0m \u001b[1;33m\u001b[0m\u001b[0m\n\u001b[1;32m--> 199\u001b[1;33m                 \u001b[0mouts\u001b[0m \u001b[1;33m=\u001b[0m \u001b[0mf\u001b[0m\u001b[1;33m(\u001b[0m\u001b[0mins_batch\u001b[0m\u001b[1;33m)\u001b[0m\u001b[1;33m\u001b[0m\u001b[0m\n\u001b[0m\u001b[0;32m    200\u001b[0m                 \u001b[1;32mif\u001b[0m \u001b[1;32mnot\u001b[0m \u001b[0misinstance\u001b[0m\u001b[1;33m(\u001b[0m\u001b[0mouts\u001b[0m\u001b[1;33m,\u001b[0m \u001b[0mlist\u001b[0m\u001b[1;33m)\u001b[0m\u001b[1;33m:\u001b[0m\u001b[1;33m\u001b[0m\u001b[0m\n\u001b[0;32m    201\u001b[0m                     \u001b[0mouts\u001b[0m \u001b[1;33m=\u001b[0m \u001b[1;33m[\u001b[0m\u001b[0mouts\u001b[0m\u001b[1;33m]\u001b[0m\u001b[1;33m\u001b[0m\u001b[0m\n",
      "\u001b[1;32m~\\Anaconda2\\lib\\site-packages\\keras\\backend\\tensorflow_backend.py\u001b[0m in \u001b[0;36m__call__\u001b[1;34m(self, inputs)\u001b[0m\n\u001b[0;32m   2659\u001b[0m                 \u001b[1;32mreturn\u001b[0m \u001b[0mself\u001b[0m\u001b[1;33m.\u001b[0m\u001b[0m_legacy_call\u001b[0m\u001b[1;33m(\u001b[0m\u001b[0minputs\u001b[0m\u001b[1;33m)\u001b[0m\u001b[1;33m\u001b[0m\u001b[0m\n\u001b[0;32m   2660\u001b[0m \u001b[1;33m\u001b[0m\u001b[0m\n\u001b[1;32m-> 2661\u001b[1;33m             \u001b[1;32mreturn\u001b[0m \u001b[0mself\u001b[0m\u001b[1;33m.\u001b[0m\u001b[0m_call\u001b[0m\u001b[1;33m(\u001b[0m\u001b[0minputs\u001b[0m\u001b[1;33m)\u001b[0m\u001b[1;33m\u001b[0m\u001b[0m\n\u001b[0m\u001b[0;32m   2662\u001b[0m         \u001b[1;32melse\u001b[0m\u001b[1;33m:\u001b[0m\u001b[1;33m\u001b[0m\u001b[0m\n\u001b[0;32m   2663\u001b[0m             \u001b[1;32mif\u001b[0m \u001b[0mpy_any\u001b[0m\u001b[1;33m(\u001b[0m\u001b[0mis_tensor\u001b[0m\u001b[1;33m(\u001b[0m\u001b[0mx\u001b[0m\u001b[1;33m)\u001b[0m \u001b[1;32mfor\u001b[0m \u001b[0mx\u001b[0m \u001b[1;32min\u001b[0m \u001b[0minputs\u001b[0m\u001b[1;33m)\u001b[0m\u001b[1;33m:\u001b[0m\u001b[1;33m\u001b[0m\u001b[0m\n",
      "\u001b[1;32m~\\Anaconda2\\lib\\site-packages\\keras\\backend\\tensorflow_backend.py\u001b[0m in \u001b[0;36m_call\u001b[1;34m(self, inputs)\u001b[0m\n\u001b[0;32m   2629\u001b[0m                                 \u001b[0msymbol_vals\u001b[0m\u001b[1;33m,\u001b[0m\u001b[1;33m\u001b[0m\u001b[0m\n\u001b[0;32m   2630\u001b[0m                                 session)\n\u001b[1;32m-> 2631\u001b[1;33m         \u001b[0mfetched\u001b[0m \u001b[1;33m=\u001b[0m \u001b[0mself\u001b[0m\u001b[1;33m.\u001b[0m\u001b[0m_callable_fn\u001b[0m\u001b[1;33m(\u001b[0m\u001b[1;33m*\u001b[0m\u001b[0marray_vals\u001b[0m\u001b[1;33m)\u001b[0m\u001b[1;33m\u001b[0m\u001b[0m\n\u001b[0m\u001b[0;32m   2632\u001b[0m         \u001b[1;32mreturn\u001b[0m \u001b[0mfetched\u001b[0m\u001b[1;33m[\u001b[0m\u001b[1;33m:\u001b[0m\u001b[0mlen\u001b[0m\u001b[1;33m(\u001b[0m\u001b[0mself\u001b[0m\u001b[1;33m.\u001b[0m\u001b[0moutputs\u001b[0m\u001b[1;33m)\u001b[0m\u001b[1;33m]\u001b[0m\u001b[1;33m\u001b[0m\u001b[0m\n\u001b[0;32m   2633\u001b[0m \u001b[1;33m\u001b[0m\u001b[0m\n",
      "\u001b[1;32m~\\Anaconda2\\lib\\site-packages\\tensorflow\\python\\client\\session.py\u001b[0m in \u001b[0;36m__call__\u001b[1;34m(self, *args)\u001b[0m\n\u001b[0;32m   1449\u001b[0m         \u001b[1;32mif\u001b[0m \u001b[0mself\u001b[0m\u001b[1;33m.\u001b[0m\u001b[0m_session\u001b[0m\u001b[1;33m.\u001b[0m\u001b[0m_created_with_new_api\u001b[0m\u001b[1;33m:\u001b[0m\u001b[1;33m\u001b[0m\u001b[0m\n\u001b[0;32m   1450\u001b[0m           return tf_session.TF_SessionRunCallable(\n\u001b[1;32m-> 1451\u001b[1;33m               self._session._session, self._handle, args, status, None)\n\u001b[0m\u001b[0;32m   1452\u001b[0m         \u001b[1;32melse\u001b[0m\u001b[1;33m:\u001b[0m\u001b[1;33m\u001b[0m\u001b[0m\n\u001b[0;32m   1453\u001b[0m           return tf_session.TF_DeprecatedSessionRunCallable(\n",
      "\u001b[1;31mKeyboardInterrupt\u001b[0m: "
     ],
     "output_type": "error"
    }
   ],
   "source": [
    "import sklearn.metrics as metrics\n",
    "num_epochs =1\n",
    "for _ in range(66):\n",
    "    H = model.fit(F_train, y_train0,\n",
    "                batch_size=batch_size,\n",
    "                epochs=num_epochs,\n",
    "                verbose=1,\n",
    "                shuffle=True,\n",
    "                validation_data=(F_test, y_test0)\n",
    "    #             callbacks=[tensorboardCallBack]\n",
    "                 )\n",
    "    foo = model.predict_classes(F_test)\n",
    "     \n",
    "    foo_new = np.reshape(foo,(-1, ))\n",
    "    print(\"\\tTest f1 score(macro):\\t{:.4f} \".format(metrics.f1_score(y_true=y_test[:foo_new.shape[0],], y_pred=foo_new,average=\"macro\")))\n",
    "    "
   ]
  },
  {
   "cell_type": "code",
   "execution_count": 65,
   "metadata": {},
   "outputs": [
    {
     "data": {
      "text/plain": [
       "(4947, 24, 18)"
      ]
     },
     "execution_count": 65,
     "metadata": {},
     "output_type": "execute_result"
    }
   ],
   "source": [
    "y_test0.shape"
   ]
  },
  {
   "cell_type": "code",
   "execution_count": 56,
   "metadata": {},
   "outputs": [
    {
     "data": {
      "text/plain": [
       "(4947, 24)"
      ]
     },
     "execution_count": 56,
     "metadata": {},
     "output_type": "execute_result"
    }
   ],
   "source": [
    "foo = model.predict_classes(F_test)\n",
    "foo.shape"
   ]
  },
  {
   "cell_type": "code",
   "execution_count": 60,
   "metadata": {},
   "outputs": [],
   "source": [
    "new_foo = np.reshape(foo,(-1,))"
   ]
  },
  {
   "cell_type": "code",
   "execution_count": 61,
   "metadata": {},
   "outputs": [
    {
     "data": {
      "text/plain": [
       "(118728,)"
      ]
     },
     "execution_count": 61,
     "metadata": {},
     "output_type": "execute_result"
    }
   ],
   "source": [
    "new_foo.shape"
   ]
  },
  {
   "cell_type": "code",
   "execution_count": 36,
   "metadata": {},
   "outputs": [
    {
     "data": {
      "text/plain": [
       "118728"
      ]
     },
     "execution_count": 36,
     "metadata": {},
     "output_type": "execute_result"
    }
   ],
   "source": [
    "24*4947"
   ]
  },
  {
   "cell_type": "markdown",
   "metadata": {},
   "source": [
    "### 37 features outputs\n",
    "- 0.56\n",
    "- 0.559\n",
    "- 0.5688"
   ]
  },
  {
   "cell_type": "code",
   "execution_count": 97,
   "metadata": {
    "scrolled": false
   },
   "outputs": [
    {
     "name": "stdout",
     "output_type": "stream",
     "text": [
      "Train on 46495 samples, validate on 9894 samples\n",
      "Epoch 1/1\n",
      "46495/46495 [==============================] - 7s 145us/step - loss: 0.7331 - acc: 0.8061 - val_loss: 0.5483 - val_acc: 0.8942\n",
      "\tTest f1 score(macro):\t0.5847 \n",
      "Train on 46495 samples, validate on 9894 samples\n",
      "Epoch 1/1\n",
      " 1024/46495 [..............................] - ETA: 5s - loss: 0.7373 - acc: 0.8066"
     ]
    },
    {
     "name": "stderr",
     "output_type": "stream",
     "text": [
      "C:\\Users\\41762\\Anaconda2\\lib\\site-packages\\sklearn\\metrics\\classification.py:1135: UndefinedMetricWarning: F-score is ill-defined and being set to 0.0 in labels with no predicted samples.\n",
      "  'precision', 'predicted', average, warn_for)\n"
     ]
    },
    {
     "name": "stdout",
     "output_type": "stream",
     "text": [
      "46495/46495 [==============================] - 7s 143us/step - loss: 0.7303 - acc: 0.8065 - val_loss: 0.5483 - val_acc: 0.8917\n",
      "\tTest f1 score(macro):\t0.5668 \n",
      "Train on 46495 samples, validate on 9894 samples\n",
      "Epoch 1/1\n",
      "46495/46495 [==============================] - 7s 144us/step - loss: 0.7349 - acc: 0.8065 - val_loss: 0.5320 - val_acc: 0.8911\n",
      "\tTest f1 score(macro):\t0.5689 \n",
      "Train on 46495 samples, validate on 9894 samples\n",
      "Epoch 1/1\n",
      "46495/46495 [==============================] - 7s 147us/step - loss: 0.7293 - acc: 0.8068 - val_loss: 0.5587 - val_acc: 0.8892\n",
      "\tTest f1 score(macro):\t0.5507 \n",
      "Train on 46495 samples, validate on 9894 samples\n",
      "Epoch 1/1\n",
      "46495/46495 [==============================] - 7s 151us/step - loss: 0.7323 - acc: 0.8057 - val_loss: 0.5393 - val_acc: 0.8907\n",
      "\tTest f1 score(macro):\t0.5628 \n",
      "Train on 46495 samples, validate on 9894 samples\n",
      "Epoch 1/1\n",
      "46495/46495 [==============================] - 7s 147us/step - loss: 0.7393 - acc: 0.8043 - val_loss: 0.5286 - val_acc: 0.8929\n",
      "\tTest f1 score(macro):\t0.5745 \n",
      "Train on 46495 samples, validate on 9894 samples\n",
      "Epoch 1/1\n",
      "46495/46495 [==============================] - 7s 144us/step - loss: 0.7314 - acc: 0.8065 - val_loss: 0.5396 - val_acc: 0.8892\n",
      "\tTest f1 score(macro):\t0.5516 \n",
      "Train on 46495 samples, validate on 9894 samples\n",
      "Epoch 1/1\n",
      "46495/46495 [==============================] - 7s 144us/step - loss: 0.7459 - acc: 0.8032 - val_loss: 0.5428 - val_acc: 0.8925\n",
      "\tTest f1 score(macro):\t0.5708 \n",
      "Train on 46495 samples, validate on 9894 samples\n",
      "Epoch 1/1\n",
      "46495/46495 [==============================] - 7s 144us/step - loss: 0.7254 - acc: 0.8071 - val_loss: 0.5364 - val_acc: 0.8920\n",
      "\tTest f1 score(macro):\t0.5678 \n",
      "Train on 46495 samples, validate on 9894 samples\n",
      "Epoch 1/1\n",
      "46495/46495 [==============================] - 7s 145us/step - loss: 0.7290 - acc: 0.8068 - val_loss: 0.5515 - val_acc: 0.8898\n",
      "\tTest f1 score(macro):\t0.5678 \n",
      "Train on 46495 samples, validate on 9894 samples\n",
      "Epoch 1/1\n",
      "46495/46495 [==============================] - 7s 143us/step - loss: 0.7333 - acc: 0.8062 - val_loss: 0.5370 - val_acc: 0.8919\n",
      "\tTest f1 score(macro):\t0.5690 \n",
      "Train on 46495 samples, validate on 9894 samples\n",
      "Epoch 1/1\n",
      "46495/46495 [==============================] - 7s 143us/step - loss: 0.7265 - acc: 0.8082 - val_loss: 0.5827 - val_acc: 0.8881\n",
      "\tTest f1 score(macro):\t0.5462 \n",
      "Train on 46495 samples, validate on 9894 samples\n",
      "Epoch 1/1\n",
      "46495/46495 [==============================] - 7s 144us/step - loss: 0.7303 - acc: 0.8067 - val_loss: 0.5658 - val_acc: 0.8913\n",
      "\tTest f1 score(macro):\t0.5745 \n",
      "Train on 46495 samples, validate on 9894 samples\n",
      "Epoch 1/1\n",
      "46495/46495 [==============================] - 7s 147us/step - loss: 0.7258 - acc: 0.8074 - val_loss: 0.5416 - val_acc: 0.8892\n",
      "\tTest f1 score(macro):\t0.5605 \n",
      "Train on 46495 samples, validate on 9894 samples\n",
      "Epoch 1/1\n",
      "46495/46495 [==============================] - 7s 142us/step - loss: 0.7260 - acc: 0.8080 - val_loss: 0.5523 - val_acc: 0.8894\n",
      "\tTest f1 score(macro):\t0.5571 \n",
      "Train on 46495 samples, validate on 9894 samples\n",
      "Epoch 1/1\n",
      "46495/46495 [==============================] - 7s 143us/step - loss: 0.7286 - acc: 0.8072 - val_loss: 0.5435 - val_acc: 0.8907\n",
      "\tTest f1 score(macro):\t0.5656 \n",
      "Train on 46495 samples, validate on 9894 samples\n",
      "Epoch 1/1\n",
      "46495/46495 [==============================] - 7s 143us/step - loss: 0.7224 - acc: 0.8093 - val_loss: 0.5376 - val_acc: 0.8904\n",
      "\tTest f1 score(macro):\t0.5642 \n",
      "Train on 46495 samples, validate on 9894 samples\n",
      "Epoch 1/1\n",
      "46495/46495 [==============================] - 7s 142us/step - loss: 0.7223 - acc: 0.8085 - val_loss: 0.5475 - val_acc: 0.8903\n",
      "\tTest f1 score(macro):\t0.5635 \n",
      "Train on 46495 samples, validate on 9894 samples\n",
      "Epoch 1/1\n",
      "46495/46495 [==============================] - 7s 142us/step - loss: 0.7234 - acc: 0.8090 - val_loss: 0.5579 - val_acc: 0.8904\n",
      "\tTest f1 score(macro):\t0.5670 \n",
      "Train on 46495 samples, validate on 9894 samples\n",
      "Epoch 1/1\n",
      "46495/46495 [==============================] - 7s 142us/step - loss: 0.7255 - acc: 0.8072 - val_loss: 0.5404 - val_acc: 0.8902\n",
      "\tTest f1 score(macro):\t0.5635 \n",
      "Train on 46495 samples, validate on 9894 samples\n",
      "Epoch 1/1\n",
      "46495/46495 [==============================] - 7s 141us/step - loss: 0.7245 - acc: 0.8087 - val_loss: 0.5393 - val_acc: 0.8925\n",
      "\tTest f1 score(macro):\t0.5696 \n",
      "Train on 46495 samples, validate on 9894 samples\n",
      "Epoch 1/1\n",
      "46495/46495 [==============================] - 7s 143us/step - loss: 0.7231 - acc: 0.8088 - val_loss: 0.5360 - val_acc: 0.8912\n",
      "\tTest f1 score(macro):\t0.5665 \n",
      "Train on 46495 samples, validate on 9894 samples\n",
      "Epoch 1/1\n",
      "46495/46495 [==============================] - 7s 142us/step - loss: 0.7201 - acc: 0.8100 - val_loss: 0.5540 - val_acc: 0.8917\n",
      "\tTest f1 score(macro):\t0.5734 \n",
      "Train on 46495 samples, validate on 9894 samples\n",
      "Epoch 1/1\n",
      "46495/46495 [==============================] - 7s 142us/step - loss: 0.7217 - acc: 0.8081 - val_loss: 0.5336 - val_acc: 0.8916\n",
      "\tTest f1 score(macro):\t0.5670 \n",
      "Train on 46495 samples, validate on 9894 samples\n",
      "Epoch 1/1\n",
      "46495/46495 [==============================] - 7s 141us/step - loss: 0.7178 - acc: 0.8096 - val_loss: 0.5328 - val_acc: 0.8914\n",
      "\tTest f1 score(macro):\t0.5692 \n",
      "Train on 46495 samples, validate on 9894 samples\n",
      "Epoch 1/1\n",
      "46495/46495 [==============================] - 7s 141us/step - loss: 0.7229 - acc: 0.8085 - val_loss: 0.5479 - val_acc: 0.8919\n",
      "\tTest f1 score(macro):\t0.5652 \n",
      "Train on 46495 samples, validate on 9894 samples\n",
      "Epoch 1/1\n",
      "46495/46495 [==============================] - 7s 148us/step - loss: 0.7202 - acc: 0.8102 - val_loss: 0.5313 - val_acc: 0.8902\n",
      "\tTest f1 score(macro):\t0.5613 \n",
      "Train on 46495 samples, validate on 9894 samples\n",
      "Epoch 1/1\n",
      "46495/46495 [==============================] - 7s 145us/step - loss: 0.7242 - acc: 0.8082 - val_loss: 0.5325 - val_acc: 0.8916\n",
      "\tTest f1 score(macro):\t0.5740 \n",
      "Train on 46495 samples, validate on 9894 samples\n",
      "Epoch 1/1\n",
      "46495/46495 [==============================] - 7s 143us/step - loss: 0.7154 - acc: 0.8100 - val_loss: 0.5518 - val_acc: 0.8907\n",
      "\tTest f1 score(macro):\t0.5672 \n",
      "Train on 46495 samples, validate on 9894 samples\n",
      "Epoch 1/1\n",
      "46495/46495 [==============================] - 7s 145us/step - loss: 0.7340 - acc: 0.8063 - val_loss: 0.5622 - val_acc: 0.8888\n",
      "\tTest f1 score(macro):\t0.5502 \n",
      "Train on 46495 samples, validate on 9894 samples\n",
      "Epoch 1/1\n",
      "46495/46495 [==============================] - 7s 144us/step - loss: 0.7293 - acc: 0.8082 - val_loss: 0.5393 - val_acc: 0.8926\n",
      "\tTest f1 score(macro):\t0.5806 \n",
      "Train on 46495 samples, validate on 9894 samples\n",
      "Epoch 1/1\n",
      "46495/46495 [==============================] - 7s 142us/step - loss: 0.7225 - acc: 0.8082 - val_loss: 0.5405 - val_acc: 0.8924\n",
      "\tTest f1 score(macro):\t0.5742 \n",
      "Train on 46495 samples, validate on 9894 samples\n",
      "Epoch 1/1\n",
      "46495/46495 [==============================] - 7s 144us/step - loss: 0.7254 - acc: 0.8082 - val_loss: 0.5824 - val_acc: 0.8911\n",
      "\tTest f1 score(macro):\t0.5588 \n",
      "Train on 46495 samples, validate on 9894 samples\n",
      "Epoch 1/1\n",
      "15872/46495 [=========>....................] - ETA: 4s - loss: 0.7257 - acc: 0.809"
     ]
    },
    {
     "ename": "KeyboardInterrupt",
     "evalue": "",
     "traceback": [
      "\u001b[1;31m---------------------------------------------------------------------------\u001b[0m",
      "\u001b[1;31mKeyboardInterrupt\u001b[0m                         Traceback (most recent call last)",
      "\u001b[1;32m<ipython-input-97-7e25dceadd9e>\u001b[0m in \u001b[0;36m<module>\u001b[1;34m()\u001b[0m\n\u001b[0;32m      7\u001b[0m                 \u001b[0mverbose\u001b[0m\u001b[1;33m=\u001b[0m\u001b[1;36m1\u001b[0m\u001b[1;33m,\u001b[0m\u001b[1;33m\u001b[0m\u001b[0m\n\u001b[0;32m      8\u001b[0m                 \u001b[0mshuffle\u001b[0m\u001b[1;33m=\u001b[0m\u001b[1;32mTrue\u001b[0m\u001b[1;33m,\u001b[0m\u001b[1;33m\u001b[0m\u001b[0m\n\u001b[1;32m----> 9\u001b[1;33m                 \u001b[0mvalidation_data\u001b[0m\u001b[1;33m=\u001b[0m\u001b[1;33m(\u001b[0m\u001b[0mX_test\u001b[0m\u001b[1;33m,\u001b[0m \u001b[0my_test1\u001b[0m\u001b[1;33m)\u001b[0m\u001b[1;33m\u001b[0m\u001b[0m\n\u001b[0m\u001b[0;32m     10\u001b[0m     \u001b[1;31m#             callbacks=[tensorboardCallBack]\u001b[0m\u001b[1;33m\u001b[0m\u001b[1;33m\u001b[0m\u001b[0m\n\u001b[0;32m     11\u001b[0m                  )\n",
      "\u001b[1;32m~\\Anaconda2\\lib\\site-packages\\keras\\engine\\training.py\u001b[0m in \u001b[0;36mfit\u001b[1;34m(self, x, y, batch_size, epochs, verbose, callbacks, validation_split, validation_data, shuffle, class_weight, sample_weight, initial_epoch, steps_per_epoch, validation_steps, **kwargs)\u001b[0m\n\u001b[0;32m   1040\u001b[0m                                         \u001b[0minitial_epoch\u001b[0m\u001b[1;33m=\u001b[0m\u001b[0minitial_epoch\u001b[0m\u001b[1;33m,\u001b[0m\u001b[1;33m\u001b[0m\u001b[0m\n\u001b[0;32m   1041\u001b[0m                                         \u001b[0msteps_per_epoch\u001b[0m\u001b[1;33m=\u001b[0m\u001b[0msteps_per_epoch\u001b[0m\u001b[1;33m,\u001b[0m\u001b[1;33m\u001b[0m\u001b[0m\n\u001b[1;32m-> 1042\u001b[1;33m                                         validation_steps=validation_steps)\n\u001b[0m\u001b[0;32m   1043\u001b[0m \u001b[1;33m\u001b[0m\u001b[0m\n\u001b[0;32m   1044\u001b[0m     def evaluate(self, x=None, y=None,\n",
      "\u001b[1;32m~\\Anaconda2\\lib\\site-packages\\keras\\engine\\training_arrays.py\u001b[0m in \u001b[0;36mfit_loop\u001b[1;34m(model, f, ins, out_labels, batch_size, epochs, verbose, callbacks, val_f, val_ins, shuffle, callback_metrics, initial_epoch, steps_per_epoch, validation_steps)\u001b[0m\n\u001b[0;32m    203\u001b[0m                     \u001b[0mbatch_logs\u001b[0m\u001b[1;33m[\u001b[0m\u001b[0ml\u001b[0m\u001b[1;33m]\u001b[0m \u001b[1;33m=\u001b[0m \u001b[0mo\u001b[0m\u001b[1;33m\u001b[0m\u001b[0m\n\u001b[0;32m    204\u001b[0m \u001b[1;33m\u001b[0m\u001b[0m\n\u001b[1;32m--> 205\u001b[1;33m                 \u001b[0mcallbacks\u001b[0m\u001b[1;33m.\u001b[0m\u001b[0mon_batch_end\u001b[0m\u001b[1;33m(\u001b[0m\u001b[0mbatch_index\u001b[0m\u001b[1;33m,\u001b[0m \u001b[0mbatch_logs\u001b[0m\u001b[1;33m)\u001b[0m\u001b[1;33m\u001b[0m\u001b[0m\n\u001b[0m\u001b[0;32m    206\u001b[0m                 \u001b[1;32mif\u001b[0m \u001b[0mcallback_model\u001b[0m\u001b[1;33m.\u001b[0m\u001b[0mstop_training\u001b[0m\u001b[1;33m:\u001b[0m\u001b[1;33m\u001b[0m\u001b[0m\n\u001b[0;32m    207\u001b[0m                     \u001b[1;32mbreak\u001b[0m\u001b[1;33m\u001b[0m\u001b[0m\n",
      "\u001b[1;32m~\\Anaconda2\\lib\\site-packages\\keras\\callbacks.py\u001b[0m in \u001b[0;36mon_batch_end\u001b[1;34m(self, batch, logs)\u001b[0m\n\u001b[0;32m    111\u001b[0m         \u001b[0mt_before_callbacks\u001b[0m \u001b[1;33m=\u001b[0m \u001b[0mtime\u001b[0m\u001b[1;33m.\u001b[0m\u001b[0mtime\u001b[0m\u001b[1;33m(\u001b[0m\u001b[1;33m)\u001b[0m\u001b[1;33m\u001b[0m\u001b[0m\n\u001b[0;32m    112\u001b[0m         \u001b[1;32mfor\u001b[0m \u001b[0mcallback\u001b[0m \u001b[1;32min\u001b[0m \u001b[0mself\u001b[0m\u001b[1;33m.\u001b[0m\u001b[0mcallbacks\u001b[0m\u001b[1;33m:\u001b[0m\u001b[1;33m\u001b[0m\u001b[0m\n\u001b[1;32m--> 113\u001b[1;33m             \u001b[0mcallback\u001b[0m\u001b[1;33m.\u001b[0m\u001b[0mon_batch_end\u001b[0m\u001b[1;33m(\u001b[0m\u001b[0mbatch\u001b[0m\u001b[1;33m,\u001b[0m \u001b[0mlogs\u001b[0m\u001b[1;33m)\u001b[0m\u001b[1;33m\u001b[0m\u001b[0m\n\u001b[0m\u001b[0;32m    114\u001b[0m         \u001b[0mself\u001b[0m\u001b[1;33m.\u001b[0m\u001b[0m_delta_ts_batch_end\u001b[0m\u001b[1;33m.\u001b[0m\u001b[0mappend\u001b[0m\u001b[1;33m(\u001b[0m\u001b[0mtime\u001b[0m\u001b[1;33m.\u001b[0m\u001b[0mtime\u001b[0m\u001b[1;33m(\u001b[0m\u001b[1;33m)\u001b[0m \u001b[1;33m-\u001b[0m \u001b[0mt_before_callbacks\u001b[0m\u001b[1;33m)\u001b[0m\u001b[1;33m\u001b[0m\u001b[0m\n\u001b[0;32m    115\u001b[0m         \u001b[0mdelta_t_median\u001b[0m \u001b[1;33m=\u001b[0m \u001b[0mnp\u001b[0m\u001b[1;33m.\u001b[0m\u001b[0mmedian\u001b[0m\u001b[1;33m(\u001b[0m\u001b[0mself\u001b[0m\u001b[1;33m.\u001b[0m\u001b[0m_delta_ts_batch_end\u001b[0m\u001b[1;33m)\u001b[0m\u001b[1;33m\u001b[0m\u001b[0m\n",
      "\u001b[1;32m~\\Anaconda2\\lib\\site-packages\\keras\\callbacks.py\u001b[0m in \u001b[0;36mon_batch_end\u001b[1;34m(self, batch, logs)\u001b[0m\n\u001b[0;32m    326\u001b[0m         \u001b[1;31m# will be handled by on_epoch_end.\u001b[0m\u001b[1;33m\u001b[0m\u001b[1;33m\u001b[0m\u001b[0m\n\u001b[0;32m    327\u001b[0m         \u001b[1;32mif\u001b[0m \u001b[0mself\u001b[0m\u001b[1;33m.\u001b[0m\u001b[0mverbose\u001b[0m \u001b[1;32mand\u001b[0m \u001b[0mself\u001b[0m\u001b[1;33m.\u001b[0m\u001b[0mseen\u001b[0m \u001b[1;33m<\u001b[0m \u001b[0mself\u001b[0m\u001b[1;33m.\u001b[0m\u001b[0mtarget\u001b[0m\u001b[1;33m:\u001b[0m\u001b[1;33m\u001b[0m\u001b[0m\n\u001b[1;32m--> 328\u001b[1;33m             \u001b[0mself\u001b[0m\u001b[1;33m.\u001b[0m\u001b[0mprogbar\u001b[0m\u001b[1;33m.\u001b[0m\u001b[0mupdate\u001b[0m\u001b[1;33m(\u001b[0m\u001b[0mself\u001b[0m\u001b[1;33m.\u001b[0m\u001b[0mseen\u001b[0m\u001b[1;33m,\u001b[0m \u001b[0mself\u001b[0m\u001b[1;33m.\u001b[0m\u001b[0mlog_values\u001b[0m\u001b[1;33m)\u001b[0m\u001b[1;33m\u001b[0m\u001b[0m\n\u001b[0m\u001b[0;32m    329\u001b[0m \u001b[1;33m\u001b[0m\u001b[0m\n\u001b[0;32m    330\u001b[0m     \u001b[1;32mdef\u001b[0m \u001b[0mon_epoch_end\u001b[0m\u001b[1;33m(\u001b[0m\u001b[0mself\u001b[0m\u001b[1;33m,\u001b[0m \u001b[0mepoch\u001b[0m\u001b[1;33m,\u001b[0m \u001b[0mlogs\u001b[0m\u001b[1;33m=\u001b[0m\u001b[1;32mNone\u001b[0m\u001b[1;33m)\u001b[0m\u001b[1;33m:\u001b[0m\u001b[1;33m\u001b[0m\u001b[0m\n",
      "\u001b[1;32m~\\Anaconda2\\lib\\site-packages\\keras\\utils\\generic_utils.py\u001b[0m in \u001b[0;36mupdate\u001b[1;34m(self, current, values)\u001b[0m\n\u001b[0;32m    354\u001b[0m             \u001b[0mprev_total_width\u001b[0m \u001b[1;33m=\u001b[0m \u001b[0mself\u001b[0m\u001b[1;33m.\u001b[0m\u001b[0m_total_width\u001b[0m\u001b[1;33m\u001b[0m\u001b[0m\n\u001b[0;32m    355\u001b[0m             \u001b[1;32mif\u001b[0m \u001b[0mself\u001b[0m\u001b[1;33m.\u001b[0m\u001b[0m_dynamic_display\u001b[0m\u001b[1;33m:\u001b[0m\u001b[1;33m\u001b[0m\u001b[0m\n\u001b[1;32m--> 356\u001b[1;33m                 \u001b[0msys\u001b[0m\u001b[1;33m.\u001b[0m\u001b[0mstdout\u001b[0m\u001b[1;33m.\u001b[0m\u001b[0mwrite\u001b[0m\u001b[1;33m(\u001b[0m\u001b[1;34m'\\b'\u001b[0m \u001b[1;33m*\u001b[0m \u001b[0mprev_total_width\u001b[0m\u001b[1;33m)\u001b[0m\u001b[1;33m\u001b[0m\u001b[0m\n\u001b[0m\u001b[0;32m    357\u001b[0m                 \u001b[0msys\u001b[0m\u001b[1;33m.\u001b[0m\u001b[0mstdout\u001b[0m\u001b[1;33m.\u001b[0m\u001b[0mwrite\u001b[0m\u001b[1;33m(\u001b[0m\u001b[1;34m'\\r'\u001b[0m\u001b[1;33m)\u001b[0m\u001b[1;33m\u001b[0m\u001b[0m\n\u001b[0;32m    358\u001b[0m             \u001b[1;32melse\u001b[0m\u001b[1;33m:\u001b[0m\u001b[1;33m\u001b[0m\u001b[0m\n",
      "\u001b[1;32m~\\Anaconda2\\lib\\site-packages\\ipykernel\\iostream.py\u001b[0m in \u001b[0;36mwrite\u001b[1;34m(self, string)\u001b[0m\n\u001b[0;32m    382\u001b[0m                     \u001b[0mself\u001b[0m\u001b[1;33m.\u001b[0m\u001b[0mflush\u001b[0m\u001b[1;33m(\u001b[0m\u001b[1;33m)\u001b[0m\u001b[1;33m\u001b[0m\u001b[0m\n\u001b[0;32m    383\u001b[0m             \u001b[1;32melse\u001b[0m\u001b[1;33m:\u001b[0m\u001b[1;33m\u001b[0m\u001b[0m\n\u001b[1;32m--> 384\u001b[1;33m                 \u001b[0mself\u001b[0m\u001b[1;33m.\u001b[0m\u001b[0m_schedule_flush\u001b[0m\u001b[1;33m(\u001b[0m\u001b[1;33m)\u001b[0m\u001b[1;33m\u001b[0m\u001b[0m\n\u001b[0m\u001b[0;32m    385\u001b[0m \u001b[1;33m\u001b[0m\u001b[0m\n\u001b[0;32m    386\u001b[0m     \u001b[1;32mdef\u001b[0m \u001b[0mwritelines\u001b[0m\u001b[1;33m(\u001b[0m\u001b[0mself\u001b[0m\u001b[1;33m,\u001b[0m \u001b[0msequence\u001b[0m\u001b[1;33m)\u001b[0m\u001b[1;33m:\u001b[0m\u001b[1;33m\u001b[0m\u001b[0m\n",
      "\u001b[1;32m~\\Anaconda2\\lib\\site-packages\\ipykernel\\iostream.py\u001b[0m in \u001b[0;36m_schedule_flush\u001b[1;34m(self)\u001b[0m\n\u001b[0;32m    323\u001b[0m         \u001b[1;32mdef\u001b[0m \u001b[0m_schedule_in_thread\u001b[0m\u001b[1;33m(\u001b[0m\u001b[1;33m)\u001b[0m\u001b[1;33m:\u001b[0m\u001b[1;33m\u001b[0m\u001b[0m\n\u001b[0;32m    324\u001b[0m             \u001b[0mself\u001b[0m\u001b[1;33m.\u001b[0m\u001b[0m_io_loop\u001b[0m\u001b[1;33m.\u001b[0m\u001b[0mcall_later\u001b[0m\u001b[1;33m(\u001b[0m\u001b[0mself\u001b[0m\u001b[1;33m.\u001b[0m\u001b[0mflush_interval\u001b[0m\u001b[1;33m,\u001b[0m \u001b[0mself\u001b[0m\u001b[1;33m.\u001b[0m\u001b[0m_flush\u001b[0m\u001b[1;33m)\u001b[0m\u001b[1;33m\u001b[0m\u001b[0m\n\u001b[1;32m--> 325\u001b[1;33m         \u001b[0mself\u001b[0m\u001b[1;33m.\u001b[0m\u001b[0mpub_thread\u001b[0m\u001b[1;33m.\u001b[0m\u001b[0mschedule\u001b[0m\u001b[1;33m(\u001b[0m\u001b[0m_schedule_in_thread\u001b[0m\u001b[1;33m)\u001b[0m\u001b[1;33m\u001b[0m\u001b[0m\n\u001b[0m\u001b[0;32m    326\u001b[0m \u001b[1;33m\u001b[0m\u001b[0m\n\u001b[0;32m    327\u001b[0m     \u001b[1;32mdef\u001b[0m \u001b[0mflush\u001b[0m\u001b[1;33m(\u001b[0m\u001b[0mself\u001b[0m\u001b[1;33m)\u001b[0m\u001b[1;33m:\u001b[0m\u001b[1;33m\u001b[0m\u001b[0m\n",
      "\u001b[1;32m~\\Anaconda2\\lib\\site-packages\\ipykernel\\iostream.py\u001b[0m in \u001b[0;36mschedule\u001b[1;34m(self, f)\u001b[0m\n\u001b[0;32m    201\u001b[0m             \u001b[0mself\u001b[0m\u001b[1;33m.\u001b[0m\u001b[0m_events\u001b[0m\u001b[1;33m.\u001b[0m\u001b[0mappend\u001b[0m\u001b[1;33m(\u001b[0m\u001b[0mf\u001b[0m\u001b[1;33m)\u001b[0m\u001b[1;33m\u001b[0m\u001b[0m\n\u001b[0;32m    202\u001b[0m             \u001b[1;31m# wake event thread (message content is ignored)\u001b[0m\u001b[1;33m\u001b[0m\u001b[1;33m\u001b[0m\u001b[0m\n\u001b[1;32m--> 203\u001b[1;33m             \u001b[0mself\u001b[0m\u001b[1;33m.\u001b[0m\u001b[0m_event_pipe\u001b[0m\u001b[1;33m.\u001b[0m\u001b[0msend\u001b[0m\u001b[1;33m(\u001b[0m\u001b[1;34mb''\u001b[0m\u001b[1;33m)\u001b[0m\u001b[1;33m\u001b[0m\u001b[0m\n\u001b[0m\u001b[0;32m    204\u001b[0m         \u001b[1;32melse\u001b[0m\u001b[1;33m:\u001b[0m\u001b[1;33m\u001b[0m\u001b[0m\n\u001b[0;32m    205\u001b[0m             \u001b[0mf\u001b[0m\u001b[1;33m(\u001b[0m\u001b[1;33m)\u001b[0m\u001b[1;33m\u001b[0m\u001b[0m\n",
      "\u001b[1;32m~\\Anaconda2\\lib\\site-packages\\zmq\\sugar\\socket.py\u001b[0m in \u001b[0;36msend\u001b[1;34m(self, data, flags, copy, track, routing_id, group)\u001b[0m\n\u001b[0;32m    389\u001b[0m                                  copy_threshold=self.copy_threshold)\n\u001b[0;32m    390\u001b[0m             \u001b[0mdata\u001b[0m\u001b[1;33m.\u001b[0m\u001b[0mgroup\u001b[0m \u001b[1;33m=\u001b[0m \u001b[0mgroup\u001b[0m\u001b[1;33m\u001b[0m\u001b[0m\n\u001b[1;32m--> 391\u001b[1;33m         \u001b[1;32mreturn\u001b[0m \u001b[0msuper\u001b[0m\u001b[1;33m(\u001b[0m\u001b[0mSocket\u001b[0m\u001b[1;33m,\u001b[0m \u001b[0mself\u001b[0m\u001b[1;33m)\u001b[0m\u001b[1;33m.\u001b[0m\u001b[0msend\u001b[0m\u001b[1;33m(\u001b[0m\u001b[0mdata\u001b[0m\u001b[1;33m,\u001b[0m \u001b[0mflags\u001b[0m\u001b[1;33m=\u001b[0m\u001b[0mflags\u001b[0m\u001b[1;33m,\u001b[0m \u001b[0mcopy\u001b[0m\u001b[1;33m=\u001b[0m\u001b[0mcopy\u001b[0m\u001b[1;33m,\u001b[0m \u001b[0mtrack\u001b[0m\u001b[1;33m=\u001b[0m\u001b[0mtrack\u001b[0m\u001b[1;33m)\u001b[0m\u001b[1;33m\u001b[0m\u001b[0m\n\u001b[0m\u001b[0;32m    392\u001b[0m \u001b[1;33m\u001b[0m\u001b[0m\n\u001b[0;32m    393\u001b[0m     \u001b[1;32mdef\u001b[0m \u001b[0msend_multipart\u001b[0m\u001b[1;33m(\u001b[0m\u001b[0mself\u001b[0m\u001b[1;33m,\u001b[0m \u001b[0mmsg_parts\u001b[0m\u001b[1;33m,\u001b[0m \u001b[0mflags\u001b[0m\u001b[1;33m=\u001b[0m\u001b[1;36m0\u001b[0m\u001b[1;33m,\u001b[0m \u001b[0mcopy\u001b[0m\u001b[1;33m=\u001b[0m\u001b[1;32mTrue\u001b[0m\u001b[1;33m,\u001b[0m \u001b[0mtrack\u001b[0m\u001b[1;33m=\u001b[0m\u001b[1;32mFalse\u001b[0m\u001b[1;33m,\u001b[0m \u001b[1;33m**\u001b[0m\u001b[0mkwargs\u001b[0m\u001b[1;33m)\u001b[0m\u001b[1;33m:\u001b[0m\u001b[1;33m\u001b[0m\u001b[0m\n",
      "\u001b[1;32mzmq/backend/cython/socket.pyx\u001b[0m in \u001b[0;36mzmq.backend.cython.socket.Socket.send\u001b[1;34m()\u001b[0m\n",
      "\u001b[1;32mzmq/backend/cython/socket.pyx\u001b[0m in \u001b[0;36mzmq.backend.cython.socket.Socket.send\u001b[1;34m()\u001b[0m\n",
      "\u001b[1;32mzmq/backend/cython/socket.pyx\u001b[0m in \u001b[0;36mzmq.backend.cython.socket._send_copy\u001b[1;34m()\u001b[0m\n",
      "\u001b[1;32m~\\Anaconda2\\lib\\site-packages\\zmq\\backend\\cython\\checkrc.pxd\u001b[0m in \u001b[0;36mzmq.backend.cython.checkrc._check_rc\u001b[1;34m()\u001b[0m\n",
      "\u001b[1;31mKeyboardInterrupt\u001b[0m: "
     ],
     "output_type": "error"
    }
   ],
   "source": [
    "import sklearn.metrics as metrics\n",
    "num_epochs =1\n",
    "for _ in range(66):\n",
    "    H = model.fit(X_train, y_train1,\n",
    "                batch_size=batch_size,\n",
    "                epochs=num_epochs,\n",
    "                verbose=1,\n",
    "                shuffle=True,\n",
    "                validation_data=(X_test, y_test1)\n",
    "    #             callbacks=[tensorboardCallBack]\n",
    "                 )\n",
    "    foo = model.predict_classes(X_test)\n",
    "    print(\"\\tTest f1 score(macro):\\t{:.4f} \".format(metrics.f1_score(y_true=y_test0, y_pred=foo,average=\"macro\")))\n",
    "    "
   ]
  },
  {
   "cell_type": "code",
   "execution_count": 24,
   "metadata": {},
   "outputs": [],
   "source": [
    "#model = keras.models.load_model(\"ConvLSTM-Opportunity-Model.h5\")"
   ]
  },
  {
   "cell_type": "markdown",
   "metadata": {},
   "source": [
    "# 2. Define the `ConvLstm` Model(37 fetures)"
   ]
  },
  {
   "cell_type": "code",
   "execution_count": 49,
   "metadata": {},
   "outputs": [
    {
     "ename": "ValueError",
     "evalue": "too many values to unpack (expected 3)",
     "traceback": [
      "\u001b[1;31m---------------------------------------------------------------------------\u001b[0m",
      "\u001b[1;31mValueError\u001b[0m                                Traceback (most recent call last)",
      "\u001b[1;32m<ipython-input-49-60013788dd1a>\u001b[0m in \u001b[0;36m<module>\u001b[1;34m()\u001b[0m\n\u001b[0;32m      4\u001b[0m \u001b[0mnum_hidden_lstm\u001b[0m \u001b[1;33m=\u001b[0m \u001b[1;36m32\u001b[0m\u001b[1;33m\u001b[0m\u001b[0m\n\u001b[0;32m      5\u001b[0m \u001b[1;33m\u001b[0m\u001b[0m\n\u001b[1;32m----> 6\u001b[1;33m \u001b[0m_\u001b[0m\u001b[1;33m,\u001b[0m \u001b[0mwin_len\u001b[0m\u001b[1;33m,\u001b[0m \u001b[0mdim\u001b[0m \u001b[1;33m=\u001b[0m \u001b[0mX_train\u001b[0m\u001b[1;33m.\u001b[0m\u001b[0mshape\u001b[0m\u001b[1;33m\u001b[0m\u001b[0m\n\u001b[0m\u001b[0;32m      7\u001b[0m \u001b[0mnetwork_type\u001b[0m \u001b[1;33m=\u001b[0m \u001b[1;34m'ConvLSTM'\u001b[0m\u001b[1;33m\u001b[0m\u001b[0m\n",
      "\u001b[1;31mValueError\u001b[0m: too many values to unpack (expected 3)"
     ],
     "output_type": "error"
    }
   ],
   "source": [
    "# batch_size = 128\n",
    "# num_feat_map = 16\n",
    "# num_hidden_mlp = 128\n",
    "# num_hidden_lstm = 32\n",
    "\n",
    "# _, win_len, dim = X_train.shape\n",
    "# network_type = 'ConvLSTM'"
   ]
  },
  {
   "cell_type": "code",
   "execution_count": 50,
   "metadata": {},
   "outputs": [
    {
     "ename": "ValueError",
     "evalue": "Input 0 is incompatible with layer conv2d_3: expected ndim=4, found ndim=2",
     "traceback": [
      "\u001b[1;31m---------------------------------------------------------------------------\u001b[0m",
      "\u001b[1;31mValueError\u001b[0m                                Traceback (most recent call last)",
      "\u001b[1;32m<ipython-input-50-b455740d63b7>\u001b[0m in \u001b[0;36m<module>\u001b[1;34m()\u001b[0m\n\u001b[0;32m      2\u001b[0m \u001b[1;33m\u001b[0m\u001b[0m\n\u001b[0;32m      3\u001b[0m \u001b[1;32mif\u001b[0m \u001b[0mnetwork_type\u001b[0m\u001b[1;33m==\u001b[0m\u001b[1;34m'CNN'\u001b[0m \u001b[1;32mor\u001b[0m \u001b[0mnetwork_type\u001b[0m\u001b[1;33m==\u001b[0m\u001b[1;34m'ConvLSTM'\u001b[0m\u001b[1;33m:\u001b[0m\u001b[1;33m\u001b[0m\u001b[0m\n\u001b[1;32m----> 4\u001b[1;33m     \u001b[0mmodel_conv\u001b[0m\u001b[1;33m(\u001b[0m\u001b[0mmodel\u001b[0m\u001b[1;33m,\u001b[0m \u001b[0mnum_feat_map\u001b[0m\u001b[1;33m)\u001b[0m\u001b[1;33m\u001b[0m\u001b[0m\n\u001b[0m\u001b[0;32m      5\u001b[0m     \u001b[0mmodel_variant\u001b[0m\u001b[1;33m(\u001b[0m\u001b[0mmodel\u001b[0m\u001b[1;33m,\u001b[0m \u001b[0mnum_feat_map\u001b[0m\u001b[1;33m,\u001b[0m \u001b[0mdim\u001b[0m\u001b[1;33m,\u001b[0m \u001b[0mnetwork_type\u001b[0m\u001b[1;33m)\u001b[0m\u001b[1;33m\u001b[0m\u001b[0m\n\u001b[0;32m      6\u001b[0m \u001b[1;32mif\u001b[0m \u001b[0mnetwork_type\u001b[0m\u001b[1;33m==\u001b[0m\u001b[1;34m'LSTM'\u001b[0m\u001b[1;33m:\u001b[0m\u001b[1;33m\u001b[0m\u001b[0m\n",
      "\u001b[1;32m<ipython-input-40-81a1f3e19c8a>\u001b[0m in \u001b[0;36mmodel_conv\u001b[1;34m(model, num_feat_map)\u001b[0m\n\u001b[0;32m     16\u001b[0m                  \u001b[0mactivation\u001b[0m\u001b[1;33m=\u001b[0m\u001b[1;34m'relu'\u001b[0m\u001b[1;33m,\u001b[0m\u001b[1;33m\u001b[0m\u001b[0m\n\u001b[0;32m     17\u001b[0m                  \u001b[0minput_shape\u001b[0m\u001b[1;33m=\u001b[0m\u001b[1;33m(\u001b[0m\u001b[0mdim\u001b[0m\u001b[1;33m,\u001b[0m \u001b[0mwin_len\u001b[0m\u001b[1;33m,\u001b[0m \u001b[1;36m1\u001b[0m\u001b[1;33m)\u001b[0m\u001b[1;33m,\u001b[0m\u001b[1;33m\u001b[0m\u001b[0m\n\u001b[1;32m---> 18\u001b[1;33m                  padding='same'))\n\u001b[0m\u001b[0;32m     19\u001b[0m \u001b[1;33m\u001b[0m\u001b[0m\n\u001b[0;32m     20\u001b[0m     \u001b[0mmodel\u001b[0m\u001b[1;33m.\u001b[0m\u001b[0madd\u001b[0m\u001b[1;33m(\u001b[0m\u001b[0mMaxPooling2D\u001b[0m\u001b[1;33m(\u001b[0m\u001b[0mpool_size\u001b[0m\u001b[1;33m=\u001b[0m\u001b[1;33m(\u001b[0m\u001b[1;36m1\u001b[0m\u001b[1;33m,\u001b[0m \u001b[1;36m2\u001b[0m\u001b[1;33m)\u001b[0m\u001b[1;33m)\u001b[0m\u001b[1;33m)\u001b[0m\u001b[1;33m\u001b[0m\u001b[0m\n",
      "\u001b[1;32m~\\Anaconda2\\lib\\site-packages\\keras\\engine\\sequential.py\u001b[0m in \u001b[0;36madd\u001b[1;34m(self, layer)\u001b[0m\n\u001b[0;32m    185\u001b[0m                 \u001b[0mself\u001b[0m\u001b[1;33m.\u001b[0m\u001b[0minputs\u001b[0m \u001b[1;33m=\u001b[0m \u001b[0mnetwork\u001b[0m\u001b[1;33m.\u001b[0m\u001b[0mget_source_inputs\u001b[0m\u001b[1;33m(\u001b[0m\u001b[0mself\u001b[0m\u001b[1;33m.\u001b[0m\u001b[0moutputs\u001b[0m\u001b[1;33m[\u001b[0m\u001b[1;36m0\u001b[0m\u001b[1;33m]\u001b[0m\u001b[1;33m)\u001b[0m\u001b[1;33m\u001b[0m\u001b[0m\n\u001b[0;32m    186\u001b[0m         \u001b[1;32melif\u001b[0m \u001b[0mself\u001b[0m\u001b[1;33m.\u001b[0m\u001b[0moutputs\u001b[0m\u001b[1;33m:\u001b[0m\u001b[1;33m\u001b[0m\u001b[0m\n\u001b[1;32m--> 187\u001b[1;33m             \u001b[0moutput_tensor\u001b[0m \u001b[1;33m=\u001b[0m \u001b[0mlayer\u001b[0m\u001b[1;33m(\u001b[0m\u001b[0mself\u001b[0m\u001b[1;33m.\u001b[0m\u001b[0moutputs\u001b[0m\u001b[1;33m[\u001b[0m\u001b[1;36m0\u001b[0m\u001b[1;33m]\u001b[0m\u001b[1;33m)\u001b[0m\u001b[1;33m\u001b[0m\u001b[0m\n\u001b[0m\u001b[0;32m    188\u001b[0m             \u001b[1;32mif\u001b[0m \u001b[0misinstance\u001b[0m\u001b[1;33m(\u001b[0m\u001b[0moutput_tensor\u001b[0m\u001b[1;33m,\u001b[0m \u001b[0mlist\u001b[0m\u001b[1;33m)\u001b[0m\u001b[1;33m:\u001b[0m\u001b[1;33m\u001b[0m\u001b[0m\n\u001b[0;32m    189\u001b[0m                 raise TypeError('All layers in a Sequential model '\n",
      "\u001b[1;32m~\\Anaconda2\\lib\\site-packages\\keras\\engine\\base_layer.py\u001b[0m in \u001b[0;36m__call__\u001b[1;34m(self, inputs, **kwargs)\u001b[0m\n\u001b[0;32m    412\u001b[0m                 \u001b[1;31m# Raise exceptions in case the input is not compatible\u001b[0m\u001b[1;33m\u001b[0m\u001b[1;33m\u001b[0m\u001b[0m\n\u001b[0;32m    413\u001b[0m                 \u001b[1;31m# with the input_spec specified in the layer constructor.\u001b[0m\u001b[1;33m\u001b[0m\u001b[1;33m\u001b[0m\u001b[0m\n\u001b[1;32m--> 414\u001b[1;33m                 \u001b[0mself\u001b[0m\u001b[1;33m.\u001b[0m\u001b[0massert_input_compatibility\u001b[0m\u001b[1;33m(\u001b[0m\u001b[0minputs\u001b[0m\u001b[1;33m)\u001b[0m\u001b[1;33m\u001b[0m\u001b[0m\n\u001b[0m\u001b[0;32m    415\u001b[0m \u001b[1;33m\u001b[0m\u001b[0m\n\u001b[0;32m    416\u001b[0m                 \u001b[1;31m# Collect input shapes to build layer.\u001b[0m\u001b[1;33m\u001b[0m\u001b[1;33m\u001b[0m\u001b[0m\n",
      "\u001b[1;32m~\\Anaconda2\\lib\\site-packages\\keras\\engine\\base_layer.py\u001b[0m in \u001b[0;36massert_input_compatibility\u001b[1;34m(self, inputs)\u001b[0m\n\u001b[0;32m    309\u001b[0m                                      \u001b[0mself\u001b[0m\u001b[1;33m.\u001b[0m\u001b[0mname\u001b[0m \u001b[1;33m+\u001b[0m \u001b[1;34m': expected ndim='\u001b[0m \u001b[1;33m+\u001b[0m\u001b[1;33m\u001b[0m\u001b[0m\n\u001b[0;32m    310\u001b[0m                                      \u001b[0mstr\u001b[0m\u001b[1;33m(\u001b[0m\u001b[0mspec\u001b[0m\u001b[1;33m.\u001b[0m\u001b[0mndim\u001b[0m\u001b[1;33m)\u001b[0m \u001b[1;33m+\u001b[0m \u001b[1;34m', found ndim='\u001b[0m \u001b[1;33m+\u001b[0m\u001b[1;33m\u001b[0m\u001b[0m\n\u001b[1;32m--> 311\u001b[1;33m                                      str(K.ndim(x)))\n\u001b[0m\u001b[0;32m    312\u001b[0m             \u001b[1;32mif\u001b[0m \u001b[0mspec\u001b[0m\u001b[1;33m.\u001b[0m\u001b[0mmax_ndim\u001b[0m \u001b[1;32mis\u001b[0m \u001b[1;32mnot\u001b[0m \u001b[1;32mNone\u001b[0m\u001b[1;33m:\u001b[0m\u001b[1;33m\u001b[0m\u001b[0m\n\u001b[0;32m    313\u001b[0m                 \u001b[0mndim\u001b[0m \u001b[1;33m=\u001b[0m \u001b[0mK\u001b[0m\u001b[1;33m.\u001b[0m\u001b[0mndim\u001b[0m\u001b[1;33m(\u001b[0m\u001b[0mx\u001b[0m\u001b[1;33m)\u001b[0m\u001b[1;33m\u001b[0m\u001b[0m\n",
      "\u001b[1;31mValueError\u001b[0m: Input 0 is incompatible with layer conv2d_3: expected ndim=4, found ndim=2"
     ],
     "output_type": "error"
    }
   ],
   "source": [
    "model2 = Sequential()\n",
    "\n",
    "if network_type=='CNN' or network_type=='ConvLSTM':\n",
    "    model_conv(model, num_feat_map)\n",
    "    model_variant(model, num_feat_map, dim, network_type)\n",
    "if network_type=='LSTM':\n",
    "    model_LSTM(model)\n",
    "if network_type=='MLP': \n",
    "    model_MLP(model, num_hidden_mlp) \n",
    "    \n",
    "print(X_train0.shape)\n",
    "model_output(model)    \n",
    "model.summary()\n",
    "    "
   ]
  },
  {
   "cell_type": "code",
   "execution_count": null,
   "metadata": {},
   "outputs": [],
   "source": []
  },
  {
   "cell_type": "markdown",
   "metadata": {},
   "source": [
    "# 4. Save the model into file"
   ]
  },
  {
   "cell_type": "code",
   "execution_count": 25,
   "metadata": {},
   "outputs": [],
   "source": [
    "from keras.models import load_model\n",
    "\n",
    "# model.save(\"ConvLSTM-Opportunity-Model.h5\")\n",
    "# model = keras.models.load_model(\"ConvLSTM-Opportunity-Model.h5\")"
   ]
  },
  {
   "cell_type": "code",
   "execution_count": 26,
   "metadata": {},
   "outputs": [
    {
     "data": {
      "text/plain": [
       "(9894, 113, 24, 1)"
      ]
     },
     "execution_count": 26,
     "metadata": {},
     "output_type": "execute_result"
    }
   ],
   "source": [
    "X_test.shape"
   ]
  },
  {
   "cell_type": "code",
   "execution_count": 27,
   "metadata": {},
   "outputs": [
    {
     "data": {
      "text/plain": [
       "(9894,)"
      ]
     },
     "execution_count": 27,
     "metadata": {},
     "output_type": "execute_result"
    }
   ],
   "source": [
    "y_test0.shape\n"
   ]
  },
  {
   "cell_type": "code",
   "execution_count": 28,
   "metadata": {},
   "outputs": [
    {
     "data": {
      "text/plain": [
       "(9894, 113, 24, 1)"
      ]
     },
     "execution_count": 28,
     "metadata": {},
     "output_type": "execute_result"
    }
   ],
   "source": [
    "X_test.shape"
   ]
  },
  {
   "cell_type": "code",
   "execution_count": 29,
   "metadata": {},
   "outputs": [],
   "source": [
    "foo = model.predict_classes(X_test)"
   ]
  },
  {
   "cell_type": "code",
   "execution_count": null,
   "metadata": {},
   "outputs": [],
   "source": []
  },
  {
   "cell_type": "markdown",
   "metadata": {},
   "source": [
    "# 5. `f1-score` and `confusion matrix`\n",
    "macro\n",
    "- 0.63\n",
    "- 0.617"
   ]
  },
  {
   "cell_type": "code",
   "execution_count": 95,
   "metadata": {
    "scrolled": true
   },
   "outputs": [
    {
     "name": "stdout",
     "output_type": "stream",
     "text": [
      "||Results||\n",
      "\tTest f1 score(macro):\t0.5734 \n",
      "\tTest f1 score(weighted):\t0.8631 \n",
      "\tTook 0.005s.\n"
     ]
    },
    {
     "name": "stderr",
     "output_type": "stream",
     "text": [
      "C:\\Users\\41762\\Anaconda2\\lib\\site-packages\\sklearn\\metrics\\classification.py:1135: UndefinedMetricWarning: F-score is ill-defined and being set to 0.0 in labels with no predicted samples.\n",
      "  'precision', 'predicted', average, warn_for)\n"
     ]
    }
   ],
   "source": [
    "# Results presentation\n",
    "import time\n",
    "start_time = time.time()\n",
    "\n",
    "print(\"||Results||\")\n",
    "\n",
    "\n",
    "import sklearn.metrics as metrics\n",
    "\n",
    "\n",
    "print(\"\\tTest f1 score(macro):\\t{:.4f} \".format(metrics.f1_score(y_true=y_test0, y_pred=foo,average=\"macro\")))\n",
    "print(\"\\tTest f1 score(weighted):\\t{:.4f} \".format(metrics.f1_score(y_true=y_test0, y_pred=foo,average=\"weighted\")))\n",
    "\n",
    "# print(\"\\tTest confusion matrix:\\t{:} \".format(metrics.confusion_matrix(y_test0, y_pred=foo)))\n",
    "# print(\"\\tTest fscore:\\t{:} \".format(metrics.(y_test0, y_pred=foo)))\n",
    "\n",
    "print(\"\\tTook {:.3f}s.\".format( time.time() - start_time))\n"
   ]
  },
  {
   "cell_type": "markdown",
   "metadata": {},
   "source": [
    "## 6. plot the confusion matrix\n",
    "\n",
    "http://scikit-learn.org/stable/auto_examples/model_selection/plot_confusion_matrix.html#sphx-glr-auto-examples-model-selection-plot-confusion-matrix-py"
   ]
  },
  {
   "cell_type": "code",
   "execution_count": 96,
   "metadata": {},
   "outputs": [
    {
     "name": "stdout",
     "output_type": "stream",
     "text": [
      "Confusion matrix, without normalization\n",
      "[[8146    4    0    2    1   16   12    8   14    5    6    2    2    4\n",
      "    15    0    0    0]\n",
      " [  27   27    0    4    0    0    0    0    0    0    0    0    0    0\n",
      "     0    0    0    0]\n",
      " [  53    0   41    0    1    0    0    0    0    0    0    0    0    0\n",
      "     0    0    0    0]\n",
      " [  27   10    0   23    0    0    0    0    0    0    0    0    0    0\n",
      "     0    0    0    0]\n",
      " [  31    0    0    0   52    0    0    0    0    0    0    0    0    0\n",
      "     0    0    0    0]\n",
      " [  98    0    0    0    0  120   10    0    0    0    0    0    0    0\n",
      "     0    0    0    0]\n",
      " [  27    0    0    0    0    5  128    0    0    0    0    0    0    0\n",
      "     0    0    0    0]\n",
      " [  32    0    0    0    0    0    0   65    3    0    0    0    0    0\n",
      "     0    0    0    0]\n",
      " [  15    0    0    0    0    0    0    3   59    0    0    0    0    0\n",
      "     0    0    0    0]\n",
      " [  15    0    0    0    0    0    0    0    0   21    1    0    0    0\n",
      "     2    0    0    0]\n",
      " [  17    0    0    0    0    0    0    0    0    3   21    1    0    0\n",
      "     0    0    0    0]\n",
      " [  13    0    0    0    0    0    0    0    0    0    1   25    1    0\n",
      "     0    0    0    0]\n",
      " [   1    0    0    0    0    0    0    0    0    0    0    5   19    1\n",
      "     0    0    0    0]\n",
      " [  22    0    0    0    0    0    0    0    0    0    0    0    3   40\n",
      "     2    0    0    0]\n",
      " [   7    0    0    0    0    0    0    0    0    0    0    0    0   12\n",
      "    42    0    0    0]\n",
      " [  99    0    0    0    0    0    0    0    0    0    0    0    0    0\n",
      "     0    0    0    0]\n",
      " [ 316    0    0    0    0    0    0    1    0    0    0    0    0    0\n",
      "     0    0    0    0]\n",
      " [ 105    0    0    0    0    0    0    0    0    0    0    0    0    0\n",
      "     0    0    0    0]]\n",
      "Normalized confusion matrix\n",
      "[[9.890e-01 4.856e-04 0.000e+00 2.428e-04 1.214e-04 1.942e-03 1.457e-03\n",
      "  9.712e-04 1.700e-03 6.070e-04 7.284e-04 2.428e-04 2.428e-04 4.856e-04\n",
      "  1.821e-03 0.000e+00 0.000e+00 0.000e+00]\n",
      " [4.655e-01 4.655e-01 0.000e+00 6.897e-02 0.000e+00 0.000e+00 0.000e+00\n",
      "  0.000e+00 0.000e+00 0.000e+00 0.000e+00 0.000e+00 0.000e+00 0.000e+00\n",
      "  0.000e+00 0.000e+00 0.000e+00 0.000e+00]\n",
      " [5.579e-01 0.000e+00 4.316e-01 0.000e+00 1.053e-02 0.000e+00 0.000e+00\n",
      "  0.000e+00 0.000e+00 0.000e+00 0.000e+00 0.000e+00 0.000e+00 0.000e+00\n",
      "  0.000e+00 0.000e+00 0.000e+00 0.000e+00]\n",
      " [4.500e-01 1.667e-01 0.000e+00 3.833e-01 0.000e+00 0.000e+00 0.000e+00\n",
      "  0.000e+00 0.000e+00 0.000e+00 0.000e+00 0.000e+00 0.000e+00 0.000e+00\n",
      "  0.000e+00 0.000e+00 0.000e+00 0.000e+00]\n",
      " [3.735e-01 0.000e+00 0.000e+00 0.000e+00 6.265e-01 0.000e+00 0.000e+00\n",
      "  0.000e+00 0.000e+00 0.000e+00 0.000e+00 0.000e+00 0.000e+00 0.000e+00\n",
      "  0.000e+00 0.000e+00 0.000e+00 0.000e+00]\n",
      " [4.298e-01 0.000e+00 0.000e+00 0.000e+00 0.000e+00 5.263e-01 4.386e-02\n",
      "  0.000e+00 0.000e+00 0.000e+00 0.000e+00 0.000e+00 0.000e+00 0.000e+00\n",
      "  0.000e+00 0.000e+00 0.000e+00 0.000e+00]\n",
      " [1.688e-01 0.000e+00 0.000e+00 0.000e+00 0.000e+00 3.125e-02 8.000e-01\n",
      "  0.000e+00 0.000e+00 0.000e+00 0.000e+00 0.000e+00 0.000e+00 0.000e+00\n",
      "  0.000e+00 0.000e+00 0.000e+00 0.000e+00]\n",
      " [3.200e-01 0.000e+00 0.000e+00 0.000e+00 0.000e+00 0.000e+00 0.000e+00\n",
      "  6.500e-01 3.000e-02 0.000e+00 0.000e+00 0.000e+00 0.000e+00 0.000e+00\n",
      "  0.000e+00 0.000e+00 0.000e+00 0.000e+00]\n",
      " [1.948e-01 0.000e+00 0.000e+00 0.000e+00 0.000e+00 0.000e+00 0.000e+00\n",
      "  3.896e-02 7.662e-01 0.000e+00 0.000e+00 0.000e+00 0.000e+00 0.000e+00\n",
      "  0.000e+00 0.000e+00 0.000e+00 0.000e+00]\n",
      " [3.846e-01 0.000e+00 0.000e+00 0.000e+00 0.000e+00 0.000e+00 0.000e+00\n",
      "  0.000e+00 0.000e+00 5.385e-01 2.564e-02 0.000e+00 0.000e+00 0.000e+00\n",
      "  5.128e-02 0.000e+00 0.000e+00 0.000e+00]\n",
      " [4.048e-01 0.000e+00 0.000e+00 0.000e+00 0.000e+00 0.000e+00 0.000e+00\n",
      "  0.000e+00 0.000e+00 7.143e-02 5.000e-01 2.381e-02 0.000e+00 0.000e+00\n",
      "  0.000e+00 0.000e+00 0.000e+00 0.000e+00]\n",
      " [3.250e-01 0.000e+00 0.000e+00 0.000e+00 0.000e+00 0.000e+00 0.000e+00\n",
      "  0.000e+00 0.000e+00 0.000e+00 2.500e-02 6.250e-01 2.500e-02 0.000e+00\n",
      "  0.000e+00 0.000e+00 0.000e+00 0.000e+00]\n",
      " [3.846e-02 0.000e+00 0.000e+00 0.000e+00 0.000e+00 0.000e+00 0.000e+00\n",
      "  0.000e+00 0.000e+00 0.000e+00 0.000e+00 1.923e-01 7.308e-01 3.846e-02\n",
      "  0.000e+00 0.000e+00 0.000e+00 0.000e+00]\n",
      " [3.284e-01 0.000e+00 0.000e+00 0.000e+00 0.000e+00 0.000e+00 0.000e+00\n",
      "  0.000e+00 0.000e+00 0.000e+00 0.000e+00 0.000e+00 4.478e-02 5.970e-01\n",
      "  2.985e-02 0.000e+00 0.000e+00 0.000e+00]\n",
      " [1.148e-01 0.000e+00 0.000e+00 0.000e+00 0.000e+00 0.000e+00 0.000e+00\n",
      "  0.000e+00 0.000e+00 0.000e+00 0.000e+00 0.000e+00 0.000e+00 1.967e-01\n",
      "  6.885e-01 0.000e+00 0.000e+00 0.000e+00]\n",
      " [1.000e+00 0.000e+00 0.000e+00 0.000e+00 0.000e+00 0.000e+00 0.000e+00\n",
      "  0.000e+00 0.000e+00 0.000e+00 0.000e+00 0.000e+00 0.000e+00 0.000e+00\n",
      "  0.000e+00 0.000e+00 0.000e+00 0.000e+00]\n",
      " [9.968e-01 0.000e+00 0.000e+00 0.000e+00 0.000e+00 0.000e+00 0.000e+00\n",
      "  3.155e-03 0.000e+00 0.000e+00 0.000e+00 0.000e+00 0.000e+00 0.000e+00\n",
      "  0.000e+00 0.000e+00 0.000e+00 0.000e+00]\n",
      " [1.000e+00 0.000e+00 0.000e+00 0.000e+00 0.000e+00 0.000e+00 0.000e+00\n",
      "  0.000e+00 0.000e+00 0.000e+00 0.000e+00 0.000e+00 0.000e+00 0.000e+00\n",
      "  0.000e+00 0.000e+00 0.000e+00 0.000e+00]]\n"
     ]
    },
    {
     "name": "stderr",
     "output_type": "stream",
     "text": [
      "C:\\Users\\41762\\Anaconda2\\lib\\site-packages\\sklearn\\metrics\\classification.py:1135: UndefinedMetricWarning: F-score is ill-defined and being set to 0.0 in labels with no predicted samples.\n",
      "  'precision', 'predicted', average, warn_for)\n"
     ]
    },
    {
     "data": {
      "image/png": "[encoded data removed]",
      "text/plain": [
       "<Figure size 432x432 with 2 Axes>"
      ]
     },
     "metadata": {},
     "output_type": "display_data"
    },
    {
     "data": {
      "image/png": "[encoded data removed]",
      "text/plain": [
       "<Figure size 576x576 with 2 Axes>"
      ]
     },
     "metadata": {},
     "output_type": "display_data"
    }
   ],
   "source": [
    "%matplotlib inline\n",
    "import matplotlib.pyplot as plt\n",
    "import itertools\n",
    "from sklearn.metrics import confusion_matrix\n",
    "\n",
    "def plot_confusion_matrix(cm, classes,\n",
    "                          normalize=False,\n",
    "                          title='Confusion matrix',\n",
    "                          cmap=plt.cm.Reds):\n",
    "    \"\"\"\n",
    "    This function prints and plots the confusion matrix.\n",
    "    Normalization can be applied by setting `normalize=True`.\n",
    "    \"\"\"\n",
    "    if normalize:\n",
    "        cm = cm.astype('int') / cm.sum(axis=1)[:, np.newaxis]\n",
    "        print(\"Normalized confusion matrix\")\n",
    "    else:\n",
    "        print('Confusion matrix, without normalization')\n",
    "\n",
    "    print(cm)\n",
    "\n",
    "    plt.imshow(cm, interpolation='nearest', cmap=cmap)\n",
    "    plt.title(title)\n",
    "    plt.colorbar()\n",
    "    tick_marks = np.arange(len(classes))\n",
    "    plt.xticks(tick_marks, classes, rotation=45)\n",
    "    plt.yticks(tick_marks, classes)\n",
    "\n",
    "    fmt = '.2f' if normalize else 'd'\n",
    "    thresh = cm.max() / 2.\n",
    "    for i, j in itertools.product(range(cm.shape[0]), range(cm.shape[1])):\n",
    "        plt.text(j, i, format(cm[i, j], fmt),\n",
    "                 horizontalalignment=\"center\",\n",
    "                 color=\"white\" if cm[i, j] > thresh else \"black\")\n",
    "\n",
    "    plt.tight_layout()\n",
    "    plt.ylabel('True label')\n",
    "    plt.xlabel('Predicted label')\n",
    "    \n",
    "    \n",
    "\n",
    "# Compute confusion matrix\n",
    "cnf_matrix = confusion_matrix(y_test0, foo)\n",
    "np.set_printoptions(precision=3)\n",
    "\n",
    "\n",
    "# Plot non-normalized confusion matrix\n",
    "plt.figure(figsize=(6,6))\n",
    "plot_confusion_matrix(cnf_matrix,classes=[0,1,2,3,4,5,6,7,8,9,10,11,12,13,14,15,16,17],\n",
    "                      title='ConvLSTM on Opportunity (without normalization).jpg')\n",
    "# plt.savefig(\"ConvLSTM on Opportunity (without normalization).jpg\")\n",
    "\n",
    "#Plot normalized confusion matrix\n",
    "plt.figure(figsize=(8,8))\n",
    "plot_confusion_matrix(cnf_matrix, classes=[0,1,2,3,4,5,6,7,8,9,10,11,12,13,14,15,16,17], normalize=True,\n",
    "#                        title='Normalized confusion matrix')\n",
    "                      title='ConvLSTM on Opportunity (with normalization)')\n",
    "plt.savefig(\"F1 Score({0}features)={1:.3f}.jpg\".format(dim,metrics.f1_score(y_true=y_test0, y_pred=foo,average=\"macro\")))\n",
    "plt.show()"
   ]
  },
  {
   "cell_type": "code",
   "execution_count": null,
   "metadata": {},
   "outputs": [],
   "source": []
  },
  {
   "cell_type": "code",
   "execution_count": null,
   "metadata": {},
   "outputs": [],
   "source": []
  },
  {
   "cell_type": "code",
   "execution_count": null,
   "metadata": {},
   "outputs": [],
   "source": []
  }
 ],
 "metadata": {
  "kernelspec": {
   "display_name": "Python 3",
   "language": "python",
   "name": "python3"
  },
  "language_info": {
   "codemirror_mode": {
    "name": "ipython",
    "version": 3
   },
   "file_extension": ".py",
   "mimetype": "text/x-python",
   "name": "python",
   "nbconvert_exporter": "python",
   "pygments_lexer": "ipython3",
   "version": "3.6.5"
  },
  "varInspector": {
   "cols": {
    "lenName": 16.0,
    "lenType": 16.0,
    "lenVar": 40.0
   },
   "kernels_config": {
    "python": {
     "delete_cmd_postfix": "",
     "delete_cmd_prefix": "del ",
     "library": "var_list.py",
     "varRefreshCmd": "print(var_dic_list())"
    },
    "r": {
     "delete_cmd_postfix": ") ",
     "delete_cmd_prefix": "rm(",
     "library": "var_list.r",
     "varRefreshCmd": "cat(var_dic_list()) "
    }
   },
   "types_to_exclude": [
    "module",
    "function",
    "builtin_function_or_method",
    "instance",
    "_Feature"
   ],
   "window_display": false
  }
 },
 "nbformat": 4,
 "nbformat_minor": 2
}
