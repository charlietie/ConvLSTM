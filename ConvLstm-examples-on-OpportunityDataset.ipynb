{
 "cells": [
  {
   "cell_type": "markdown",
   "metadata": {},
   "source": [
    "# ConvLstm examples on Opportunity Dataset -` gesture` only"
   ]
  },
  {
   "cell_type": "code",
   "execution_count": 1,
   "metadata": {},
   "outputs": [
    {
     "name": "stderr",
     "output_type": "stream",
     "text": [
      "/Users/chentailin/anaconda3/lib/python3.6/site-packages/h5py/__init__.py:36: FutureWarning: Conversion of the second argument of issubdtype from `float` to `np.floating` is deprecated. In future, it will be treated as `np.float64 == np.dtype(float).type`.\n",
      "  from ._conv import register_converters as _register_converters\n",
      "Using TensorFlow backend.\n"
     ]
    }
   ],
   "source": [
    "import numpy as np\n",
    "import scipy.io # load the matrix file\n",
    "import pickle as cp\n",
    " \n",
    "import keras\n",
    "from keras.utils import to_categorical\n",
    "from keras.models import Sequential\n",
    "from keras.layers import Conv2D, MaxPooling2D, LSTM, Dense, Dropout, Flatten\n",
    "from keras.layers.core import Permute, Reshape\n",
    "from keras import backend as K\n",
    "from keras.callbacks import TensorBoard \n",
    "\n",
    "from sklearn.model_selection import train_test_split\n",
    "# example: X_train, X_test, y_train, y_test = train_test_split(X, y, test_size=0.33)\n"
   ]
  },
  {
   "cell_type": "markdown",
   "metadata": {},
   "source": [
    "# 1. Prepare the dataset `OPPORTUNITY Activity Recognition Data Set ` "
   ]
  },
  {
   "cell_type": "markdown",
   "metadata": {},
   "source": [
    "## 1. Wearable Sensor Data"
   ]
  },
  {
   "cell_type": "code",
   "execution_count": 2,
   "metadata": {
    "scrolled": true
   },
   "outputs": [
    {
     "name": "stdout",
     "output_type": "stream",
     "text": [
      "Loading data...\n",
      " ..from file DeepConvLSTM/data/oppChallenge_gestures.data\n",
      " ..reading instances: X_train (557963, 113), X_test (118750, 113)\n",
      " ..reading instances: y_train (557963,), y_test (118750,)\n",
      "Successfully\n"
     ]
    }
   ],
   "source": [
    "\n",
    "def load_dataset(filename):\n",
    "    \"\"\"\n",
    "    Function to load dataset \n",
    "    \n",
    "    Argument:\n",
    "        filename : the path of the preprocessed dataset\n",
    "    \n",
    "    Return:\n",
    "    \n",
    "        X_train\n",
    "        y_train\n",
    "        X_test\n",
    "        y_test\n",
    "        \n",
    "    Notice:\n",
    "        Need use `pickle(python3)` or`cpicckle(python2)` module to load and read dataset.\n",
    "        \n",
    "    \n",
    "    \"\"\"\n",
    "\n",
    "    f = open(filename, 'rb')\n",
    "    data = cp.load(f)\n",
    "    f.close()\n",
    "\n",
    "    X_train, y_train = data[0]\n",
    "    X_test, y_test = data[1]\n",
    "\n",
    "    print(\" ..from file {}\".format(filename))\n",
    "    print(\" ..reading instances: X_train {0}, X_test {1}\".format(X_train.shape, X_test.shape))\n",
    "    print(\" ..reading instances: y_train {0}, y_test {1}\".format(y_train.shape, y_test.shape))\n",
    "\n",
    "    X_train = X_train.astype(np.float32)\n",
    "    X_test = X_test.astype(np.float32)\n",
    "\n",
    "    # The targets are casted to int8 for GPU compatibility.\n",
    "    y_train = y_train.astype(np.uint8)\n",
    "    y_test = y_test.astype(np.uint8)\n",
    "\n",
    "    return X_train, y_train, X_test, y_test\n",
    "\n",
    "print(\"Loading data...\")\n",
    "X_train, y_train, X_test, y_test = load_dataset('DeepConvLSTM/data/oppChallenge_gestures.data')\n",
    "print(\"Successfully\")\n"
   ]
  },
  {
   "cell_type": "code",
   "execution_count": 3,
   "metadata": {},
   "outputs": [
    {
     "name": "stdout",
     "output_type": "stream",
     "text": [
      "17 activities and 1 NaN classes\n"
     ]
    }
   ],
   "source": [
    "y_train.max()\n",
    "print(\"17 activities and 1 NaN classes\")"
   ]
  },
  {
   "cell_type": "code",
   "execution_count": 4,
   "metadata": {},
   "outputs": [],
   "source": [
    "# Opportunity num_classes = 18\n",
    "num_classes = 18"
   ]
  },
  {
   "cell_type": "code",
   "execution_count": 5,
   "metadata": {},
   "outputs": [],
   "source": [
    "# y_train = to_categorical(y_train,num_classes=num_classes)\n",
    "# y_test = to_categorical(y_test,num_classes)"
   ]
  },
  {
   "cell_type": "code",
   "execution_count": 6,
   "metadata": {},
   "outputs": [
    {
     "name": "stdout",
     "output_type": "stream",
     "text": [
      "(557963, 113)\n",
      "(557963,)\n"
     ]
    }
   ],
   "source": [
    "print(X_train.shape)\n",
    "print(y_train.shape)"
   ]
  },
  {
   "cell_type": "markdown",
   "metadata": {},
   "source": [
    "# 2.Now, we have `X_train, A_train, X_test, A_test, y_train, y_test`\n",
    "\n",
    "## 很显然我们需要用`sliding_window `来处理 `X_train` 和 `y_train` ，`A_train`&`A_test` to get the features\n",
    "    1.参考Kronecker Product fusion method 来实验\n",
    "        - 实验只用raw feature\n",
    "        - 对比混合了attribute 的方法\n",
    "    2. define `sliding_window`\n",
    "    3. using sliding_window to process raw data into (rows,window_size,dimensions)\n"
   ]
  },
  {
   "cell_type": "code",
   "execution_count": 7,
   "metadata": {},
   "outputs": [],
   "source": [
    "from sliding_window import sliding_window\n",
    "# ?sliding_window\n",
    "\n",
    "# assert NB_SENSOR_CHANNELS == X_train.shape[1]\n",
    "def opp_sliding_window(data_x, data_y, ws, ss):\n",
    "    data_x = sliding_window(a=data_x,ws=(ws,data_x.shape[1]),ss=(ss,1),flatten=False)\n",
    "#     data_x = sliding_window(data_x,ws,ss)\n",
    "\n",
    "    data_y = np.asarray([[i[-1]] for i in sliding_window(data_y,ws,ss,flatten=False)])\n",
    "    return data_x.reshape(-1,ws,data_x.shape[3]).astype(np.float32), data_y.reshape(-1).astype(np.uint8)\n",
    "#     return data_x.astype(np.float32), data_y.flatten().astype(np.uint8)\n",
    "\n",
    "SLIDING_WINDOW_LENGTH = 24\n",
    "SLIDING_WINDOW_STEP = 12"
   ]
  },
  {
   "cell_type": "code",
   "execution_count": 8,
   "metadata": {},
   "outputs": [
    {
     "name": "stdout",
     "output_type": "stream",
     "text": [
      " ..after sliding window (training): inputs (46495, 24, 113), targets (46495,)\n",
      " ..after sliding window (testing): inputs (9894, 24, 113), targets (9894,)\n"
     ]
    }
   ],
   "source": [
    "# Use sliding_window to choose samples\n",
    "\n",
    "X_train0, y_train0 = opp_sliding_window(X_train, y_train, SLIDING_WINDOW_LENGTH, SLIDING_WINDOW_STEP)\n",
    "print(\" ..after sliding window (training): inputs {0}, targets {1}\".format(X_train0.shape, y_train0.shape))\n",
    "\n",
    "X_test0, y_test0 = opp_sliding_window(X_test, y_test, SLIDING_WINDOW_LENGTH, SLIDING_WINDOW_STEP)\n",
    "print(\" ..after sliding window (testing): inputs {0}, targets {1}\".format(X_test0.shape, y_test0.shape))\n"
   ]
  },
  {
   "cell_type": "code",
   "execution_count": 9,
   "metadata": {},
   "outputs": [],
   "source": [
    "y_train1 = to_categorical(y_train0,num_classes)\n",
    "y_test1 = to_categorical(y_test0,num_classes)"
   ]
  },
  {
   "cell_type": "code",
   "execution_count": 10,
   "metadata": {},
   "outputs": [
    {
     "data": {
      "text/plain": [
       "(46495, 18)"
      ]
     },
     "execution_count": 10,
     "metadata": {},
     "output_type": "execute_result"
    }
   ],
   "source": [
    "y_test0.shape\n",
    "y_train1.shape"
   ]
  },
  {
   "cell_type": "markdown",
   "metadata": {},
   "source": [
    "# 2. Define the `ConvLstm` Model"
   ]
  },
  {
   "cell_type": "code",
   "execution_count": 11,
   "metadata": {},
   "outputs": [],
   "source": [
    "def model_variant(model, num_feat_map, dim, network_type):\n",
    "    print(network_type)\n",
    "    if network_type == 'ConvLSTM':\n",
    "        model.add(Permute((2, 1, 3))) # for swap-dimension\n",
    "        model.add(Reshape((-1,num_feat_map*dim)))\n",
    "        model.add(LSTM(32, return_sequences=False, stateful=False))\n",
    "        model.add(Dropout(0.2))\n",
    "    if network_type == 'CNN':\n",
    "         \n",
    "        model.add(Flatten())\n",
    "        model.add(Dense(32, activation='relu'))\n",
    "        model.add(Dropout(0.2))\n",
    "\n",
    "def model_conv(model, num_feat_map):\n",
    "    model.add(Conv2D(num_feat_map, kernel_size=(1, 5),\n",
    "                 activation='relu',\n",
    "                 input_shape=(dim, win_len, 1),\n",
    "                 padding='same'))\n",
    "    \n",
    "    model.add(MaxPooling2D(pool_size=(1, 2)))\n",
    "    model.add(Dropout(0.2))\n",
    "    model.add(Conv2D(num_feat_map, \n",
    "                     kernel_size=(1, 5), \n",
    "                     activation='relu',\n",
    "                     padding='same'))\n",
    "    \n",
    "    model.add(MaxPooling2D(pool_size=(1, 2)))\n",
    "    model.add(Dropout(0.2))\n",
    "     \n",
    "\n",
    "def model_LSTM(model):\n",
    "    model.add(LSTM(num_hidden_lstm, \n",
    "               input_shape=(win_len,dim), \n",
    "               return_sequences=True))\n",
    "    model.add(Dropout(0.2))\n",
    "    model.add(LSTM(num_hidden_lstm, return_sequences=False))\n",
    "    model.add(Dropout(0.2))\n",
    "\n",
    "# def model_LSTM(model):\n",
    "    \n",
    "\n",
    "# ### def model_MLP(model, num_hidden_mlp):\n",
    "#     model.add(Dense(num_hidden_mlp, activation='relu', input_shape=(dim*win_len,)))\n",
    "#     model.add(Dropout(0.5))\n",
    "#     model.add(Dense(num_hidden_mlp, activation='relu'))\n",
    "#     model.add(Dropout(0.5))\n",
    "\n",
    "def model_output(model):\n",
    "    model.add(Dense(num_classes, activation='softmax'))"
   ]
  },
  {
   "cell_type": "code",
   "execution_count": 12,
   "metadata": {},
   "outputs": [],
   "source": [
    "batch_size = 128\n",
    "num_feat_map = 16\n",
    "num_hidden_mlp = 128\n",
    "num_hidden_lstm = 64\n",
    "\n"
   ]
  },
  {
   "cell_type": "code",
   "execution_count": 13,
   "metadata": {},
   "outputs": [],
   "source": [
    "network_type = 'ConvLSTM'"
   ]
  },
  {
   "cell_type": "code",
   "execution_count": 14,
   "metadata": {},
   "outputs": [],
   "source": [
    "\n",
    "_, win_len, dim = X_train0.shape\n"
   ]
  },
  {
   "cell_type": "code",
   "execution_count": 17,
   "metadata": {},
   "outputs": [
    {
     "data": {
      "text/plain": [
       "(46495, 24, 113)"
      ]
     },
     "execution_count": 17,
     "metadata": {},
     "output_type": "execute_result"
    }
   ],
   "source": [
    "X_train0.shape"
   ]
  },
  {
   "cell_type": "code",
   "execution_count": 18,
   "metadata": {},
   "outputs": [],
   "source": [
    "def _data_reshaping(X_tr, X_va, network_type):\n",
    "    _, win_len, dim = X_tr.shape\n",
    "    print(network_type)\n",
    "    if network_type=='CNN' or network_type=='ConvLSTM':\n",
    "         \n",
    "        # make it into (frame_number, dimension, window_size, channel=1) for convNet\n",
    "        X_tr = np.swapaxes(X_tr,1,2)\n",
    "        X_va = np.swapaxes(X_va,1,2)\n",
    " \n",
    "        X_tr = np.reshape(X_tr, (-1, dim, win_len, 1))\n",
    "        X_va = np.reshape(X_va, (-1, dim, win_len, 1))\n",
    "         \n",
    "    if network_type=='MLP':\n",
    "        print('MLP...')\n",
    "        X_tr = np.reshape(X_tr, (-1, dim*win_len))\n",
    "        X_va = np.reshape(X_va, (-1, dim*win_len))\n",
    "     \n",
    "    return X_tr, X_va"
   ]
  },
  {
   "cell_type": "code",
   "execution_count": 19,
   "metadata": {},
   "outputs": [
    {
     "name": "stdout",
     "output_type": "stream",
     "text": [
      "ConvLSTM\n",
      "x_test shape = (9894, 113, 24, 1)\n"
     ]
    }
   ],
   "source": [
    "X_train, X_test = _data_reshaping(X_train0, X_test0, network_type)\n",
    "print('x_test shape = ' + str(X_test.shape))"
   ]
  },
  {
   "cell_type": "code",
   "execution_count": 20,
   "metadata": {},
   "outputs": [
    {
     "data": {
      "text/plain": [
       "(46495, 113, 24, 1)"
      ]
     },
     "execution_count": 20,
     "metadata": {},
     "output_type": "execute_result"
    }
   ],
   "source": [
    "X_train.shape"
   ]
  },
  {
   "cell_type": "code",
   "execution_count": 21,
   "metadata": {},
   "outputs": [],
   "source": [
    "model = Sequential()"
   ]
  },
  {
   "cell_type": "code",
   "execution_count": 22,
   "metadata": {},
   "outputs": [
    {
     "name": "stdout",
     "output_type": "stream",
     "text": [
      "ConvLSTM\n"
     ]
    }
   ],
   "source": [
    "if network_type=='CNN' or network_type=='ConvLSTM':\n",
    "    model_conv(model, num_feat_map)\n",
    "    model_variant(model, num_feat_map, dim, network_type)\n",
    "if network_type=='LSTM':\n",
    "    model_LSTM(model)\n",
    "if network_type=='MLP': \n",
    "    model_MLP(model, num_hidden_mlp) \n",
    "    "
   ]
  },
  {
   "cell_type": "code",
   "execution_count": 23,
   "metadata": {
    "scrolled": true
   },
   "outputs": [
    {
     "name": "stdout",
     "output_type": "stream",
     "text": [
      "(46495, 24, 113)\n",
      "_________________________________________________________________\n",
      "Layer (type)                 Output Shape              Param #   \n",
      "=================================================================\n",
      "conv2d_1 (Conv2D)            (None, 113, 24, 16)       96        \n",
      "_________________________________________________________________\n",
      "max_pooling2d_1 (MaxPooling2 (None, 113, 12, 16)       0         \n",
      "_________________________________________________________________\n",
      "dropout_1 (Dropout)          (None, 113, 12, 16)       0         \n",
      "_________________________________________________________________\n",
      "conv2d_2 (Conv2D)            (None, 113, 12, 16)       1296      \n",
      "_________________________________________________________________\n",
      "max_pooling2d_2 (MaxPooling2 (None, 113, 6, 16)        0         \n",
      "_________________________________________________________________\n",
      "dropout_2 (Dropout)          (None, 113, 6, 16)        0         \n",
      "_________________________________________________________________\n",
      "permute_1 (Permute)          (None, 6, 113, 16)        0         \n",
      "_________________________________________________________________\n",
      "reshape_1 (Reshape)          (None, 6, 1808)           0         \n",
      "_________________________________________________________________\n",
      "lstm_1 (LSTM)                (None, 32)                235648    \n",
      "_________________________________________________________________\n",
      "dropout_3 (Dropout)          (None, 32)                0         \n",
      "_________________________________________________________________\n",
      "dense_1 (Dense)              (None, 18)                594       \n",
      "=================================================================\n",
      "Total params: 237,634\n",
      "Trainable params: 237,634\n",
      "Non-trainable params: 0\n",
      "_________________________________________________________________\n"
     ]
    }
   ],
   "source": [
    "print(X_train0.shape)\n",
    "model_output(model)    \n",
    "model.summary()"
   ]
  },
  {
   "cell_type": "code",
   "execution_count": 24,
   "metadata": {},
   "outputs": [
    {
     "data": {
      "text/plain": [
       "[{'class_name': 'Conv2D',\n",
       "  'config': {'activation': 'relu',\n",
       "   'activity_regularizer': None,\n",
       "   'batch_input_shape': (None, 113, 24, 1),\n",
       "   'bias_constraint': None,\n",
       "   'bias_initializer': {'class_name': 'Zeros', 'config': {}},\n",
       "   'bias_regularizer': None,\n",
       "   'data_format': 'channels_last',\n",
       "   'dilation_rate': (1, 1),\n",
       "   'dtype': 'float32',\n",
       "   'filters': 16,\n",
       "   'kernel_constraint': None,\n",
       "   'kernel_initializer': {'class_name': 'VarianceScaling',\n",
       "    'config': {'distribution': 'uniform',\n",
       "     'mode': 'fan_avg',\n",
       "     'scale': 1.0,\n",
       "     'seed': None}},\n",
       "   'kernel_regularizer': None,\n",
       "   'kernel_size': (1, 5),\n",
       "   'name': 'conv2d_1',\n",
       "   'padding': 'same',\n",
       "   'strides': (1, 1),\n",
       "   'trainable': True,\n",
       "   'use_bias': True}},\n",
       " {'class_name': 'MaxPooling2D',\n",
       "  'config': {'data_format': 'channels_last',\n",
       "   'name': 'max_pooling2d_1',\n",
       "   'padding': 'valid',\n",
       "   'pool_size': (1, 2),\n",
       "   'strides': (1, 2),\n",
       "   'trainable': True}},\n",
       " {'class_name': 'Dropout',\n",
       "  'config': {'name': 'dropout_1',\n",
       "   'noise_shape': None,\n",
       "   'rate': 0.2,\n",
       "   'seed': None,\n",
       "   'trainable': True}},\n",
       " {'class_name': 'Conv2D',\n",
       "  'config': {'activation': 'relu',\n",
       "   'activity_regularizer': None,\n",
       "   'bias_constraint': None,\n",
       "   'bias_initializer': {'class_name': 'Zeros', 'config': {}},\n",
       "   'bias_regularizer': None,\n",
       "   'data_format': 'channels_last',\n",
       "   'dilation_rate': (1, 1),\n",
       "   'filters': 16,\n",
       "   'kernel_constraint': None,\n",
       "   'kernel_initializer': {'class_name': 'VarianceScaling',\n",
       "    'config': {'distribution': 'uniform',\n",
       "     'mode': 'fan_avg',\n",
       "     'scale': 1.0,\n",
       "     'seed': None}},\n",
       "   'kernel_regularizer': None,\n",
       "   'kernel_size': (1, 5),\n",
       "   'name': 'conv2d_2',\n",
       "   'padding': 'same',\n",
       "   'strides': (1, 1),\n",
       "   'trainable': True,\n",
       "   'use_bias': True}},\n",
       " {'class_name': 'MaxPooling2D',\n",
       "  'config': {'data_format': 'channels_last',\n",
       "   'name': 'max_pooling2d_2',\n",
       "   'padding': 'valid',\n",
       "   'pool_size': (1, 2),\n",
       "   'strides': (1, 2),\n",
       "   'trainable': True}},\n",
       " {'class_name': 'Dropout',\n",
       "  'config': {'name': 'dropout_2',\n",
       "   'noise_shape': None,\n",
       "   'rate': 0.2,\n",
       "   'seed': None,\n",
       "   'trainable': True}},\n",
       " {'class_name': 'Permute',\n",
       "  'config': {'dims': (2, 1, 3), 'name': 'permute_1', 'trainable': True}},\n",
       " {'class_name': 'Reshape',\n",
       "  'config': {'name': 'reshape_1',\n",
       "   'target_shape': (-1, 1808),\n",
       "   'trainable': True}},\n",
       " {'class_name': 'LSTM',\n",
       "  'config': {'activation': 'tanh',\n",
       "   'activity_regularizer': None,\n",
       "   'bias_constraint': None,\n",
       "   'bias_initializer': {'class_name': 'Zeros', 'config': {}},\n",
       "   'bias_regularizer': None,\n",
       "   'dropout': 0.0,\n",
       "   'go_backwards': False,\n",
       "   'implementation': 1,\n",
       "   'kernel_constraint': None,\n",
       "   'kernel_initializer': {'class_name': 'VarianceScaling',\n",
       "    'config': {'distribution': 'uniform',\n",
       "     'mode': 'fan_avg',\n",
       "     'scale': 1.0,\n",
       "     'seed': None}},\n",
       "   'kernel_regularizer': None,\n",
       "   'name': 'lstm_1',\n",
       "   'recurrent_activation': 'hard_sigmoid',\n",
       "   'recurrent_constraint': None,\n",
       "   'recurrent_dropout': 0.0,\n",
       "   'recurrent_initializer': {'class_name': 'Orthogonal',\n",
       "    'config': {'gain': 1.0, 'seed': None}},\n",
       "   'recurrent_regularizer': None,\n",
       "   'return_sequences': False,\n",
       "   'return_state': False,\n",
       "   'stateful': False,\n",
       "   'trainable': True,\n",
       "   'unit_forget_bias': True,\n",
       "   'units': 32,\n",
       "   'unroll': False,\n",
       "   'use_bias': True}},\n",
       " {'class_name': 'Dropout',\n",
       "  'config': {'name': 'dropout_3',\n",
       "   'noise_shape': None,\n",
       "   'rate': 0.2,\n",
       "   'seed': None,\n",
       "   'trainable': True}},\n",
       " {'class_name': 'Dense',\n",
       "  'config': {'activation': 'softmax',\n",
       "   'activity_regularizer': None,\n",
       "   'bias_constraint': None,\n",
       "   'bias_initializer': {'class_name': 'Zeros', 'config': {}},\n",
       "   'bias_regularizer': None,\n",
       "   'kernel_constraint': None,\n",
       "   'kernel_initializer': {'class_name': 'VarianceScaling',\n",
       "    'config': {'distribution': 'uniform',\n",
       "     'mode': 'fan_avg',\n",
       "     'scale': 1.0,\n",
       "     'seed': None}},\n",
       "   'kernel_regularizer': None,\n",
       "   'name': 'dense_1',\n",
       "   'trainable': True,\n",
       "   'units': 18,\n",
       "   'use_bias': True}}]"
      ]
     },
     "execution_count": 24,
     "metadata": {},
     "output_type": "execute_result"
    }
   ],
   "source": [
    "model.get_config()"
   ]
  },
  {
   "cell_type": "markdown",
   "metadata": {},
   "source": [
    "# 3. Compile the model\n",
    "- Chose `F1-Score` and `Cross-entropy Loss` and `Confusion Matrix` as the metrics"
   ]
  },
  {
   "cell_type": "code",
   "execution_count": 133,
   "metadata": {},
   "outputs": [],
   "source": [
    "def f1_score(y_true,y_predict):\n",
    "    return K.f1_score(y_predict)\n",
    "    "
   ]
  },
  {
   "cell_type": "code",
   "execution_count": 183,
   "metadata": {},
   "outputs": [
    {
     "name": "stdout",
     "output_type": "stream",
     "text": [
      "(9894, 24, 113)\n",
      "(9894,)\n"
     ]
    }
   ],
   "source": [
    "from keras import metrics\n",
    "\n",
    "model.compile(loss=keras.losses.categorical_crossentropy,\n",
    "              optimizer='adam',\n",
    "              metrics=['accuracy'])\n",
    "\n",
    "tensorboardCallBack = TensorBoard(log_dir='./Opportunity-Graph', histogram_freq=0, write_graph=True, write_images=True)\n",
    "\n",
    "print(X_test0.shape)\n",
    "print(y_test0.shape)"
   ]
  },
  {
   "cell_type": "code",
   "execution_count": 135,
   "metadata": {},
   "outputs": [
    {
     "name": "stdout",
     "output_type": "stream",
     "text": [
      "X_train.shape: (46495, 113, 24, 1)\n",
      "y_train0.shape (46495,)\n",
      "X_test.shape: (9894, 113, 24, 1)\n",
      "y_test0.shape (9894,)\n"
     ]
    }
   ],
   "source": [
    "\n",
    "print(\"X_train.shape:\",X_train.shape)\n",
    "print(\"y_train0.shape\",y_train0.shape)\n",
    "\n",
    "print(\"X_test.shape:\",X_test.shape)\n",
    "print(\"y_test0.shape\",y_test0.shape)"
   ]
  },
  {
   "cell_type": "code",
   "execution_count": 265,
   "metadata": {
    "scrolled": true
   },
   "outputs": [
    {
     "name": "stdout",
     "output_type": "stream",
     "text": [
      "Train on 46495 samples, validate on 9894 samples\n",
      "Epoch 1/10\n",
      "46495/46495 [==============================] - 110s 2ms/step - loss: 0.1319 - acc: 0.9545 - val_loss: 0.5218 - val_acc: 0.8949\n",
      "Epoch 2/10\n",
      "46495/46495 [==============================] - 110s 2ms/step - loss: 0.1279 - acc: 0.9551 - val_loss: 0.5043 - val_acc: 0.8944\n",
      "Epoch 3/10\n",
      "46495/46495 [==============================] - 129s 3ms/step - loss: 0.1312 - acc: 0.9546 - val_loss: 0.5388 - val_acc: 0.8908\n",
      "Epoch 4/10\n",
      "46495/46495 [==============================] - 107s 2ms/step - loss: 0.1305 - acc: 0.9549 - val_loss: 0.4945 - val_acc: 0.8914\n",
      "Epoch 5/10\n",
      "46495/46495 [==============================] - 165s 4ms/step - loss: 0.1266 - acc: 0.9554 - val_loss: 0.4908 - val_acc: 0.8950\n",
      "Epoch 6/10\n",
      "46495/46495 [==============================] - 161s 3ms/step - loss: 0.1258 - acc: 0.9558 - val_loss: 0.5009 - val_acc: 0.8885\n",
      "Epoch 7/10\n",
      "46495/46495 [==============================] - 115s 2ms/step - loss: 0.1260 - acc: 0.9563 - val_loss: 0.4973 - val_acc: 0.8977\n",
      "Epoch 8/10\n",
      "46495/46495 [==============================] - 126s 3ms/step - loss: 0.1224 - acc: 0.9574 - val_loss: 0.5176 - val_acc: 0.8811\n",
      "Epoch 9/10\n",
      "46495/46495 [==============================] - 139s 3ms/step - loss: 0.1238 - acc: 0.9582 - val_loss: 0.5126 - val_acc: 0.8971\n",
      "Epoch 10/10\n",
      "46495/46495 [==============================] - 168s 4ms/step - loss: 0.1257 - acc: 0.9560 - val_loss: 0.5125 - val_acc: 0.8942\n"
     ]
    }
   ],
   "source": [
    "epochs =10\n",
    "H = model.fit(X_train, y_train1,\n",
    "            batch_size=batch_size,\n",
    "            epochs=epochs,\n",
    "            verbose=1,\n",
    "            shuffle=True,\n",
    "            validation_data=(X_test, y_test1),\n",
    "#             callbacks=[tensorboardCallBack]\n",
    "             )"
   ]
  },
  {
   "cell_type": "code",
   "execution_count": 254,
   "metadata": {},
   "outputs": [],
   "source": [
    "#model = keras.models.load_model(\"ConvLSTM-Opportunity-Model.h5\")"
   ]
  },
  {
   "cell_type": "markdown",
   "metadata": {},
   "source": [
    "# 4. Save the model into file"
   ]
  },
  {
   "cell_type": "code",
   "execution_count": 163,
   "metadata": {},
   "outputs": [],
   "source": [
    "from keras.models import load_model\n",
    "\n",
    "# model.save(\"ConvLSTM-Opportunity-Model.h5\")\n",
    "model = keras.models.load_model(\"ConvLSTM-Opportunity-Model.h5\")"
   ]
  },
  {
   "cell_type": "code",
   "execution_count": 256,
   "metadata": {},
   "outputs": [],
   "source": [
    "model."
   ]
  },
  {
   "cell_type": "code",
   "execution_count": 266,
   "metadata": {},
   "outputs": [
    {
     "data": {
      "text/plain": [
       "(9894, 113, 24, 1)"
      ]
     },
     "execution_count": 266,
     "metadata": {},
     "output_type": "execute_result"
    }
   ],
   "source": [
    "X_test.shape"
   ]
  },
  {
   "cell_type": "code",
   "execution_count": 267,
   "metadata": {},
   "outputs": [
    {
     "data": {
      "text/plain": [
       "(9894,)"
      ]
     },
     "execution_count": 267,
     "metadata": {},
     "output_type": "execute_result"
    }
   ],
   "source": [
    "y_test0.shape\n"
   ]
  },
  {
   "cell_type": "code",
   "execution_count": 268,
   "metadata": {},
   "outputs": [
    {
     "data": {
      "text/plain": [
       "(9894, 113, 24, 1)"
      ]
     },
     "execution_count": 268,
     "metadata": {},
     "output_type": "execute_result"
    }
   ],
   "source": [
    "X_test.shape"
   ]
  },
  {
   "cell_type": "code",
   "execution_count": 269,
   "metadata": {},
   "outputs": [],
   "source": [
    "foo = model.predict_classes(X_test)"
   ]
  },
  {
   "cell_type": "code",
   "execution_count": null,
   "metadata": {},
   "outputs": [],
   "source": []
  },
  {
   "cell_type": "markdown",
   "metadata": {},
   "source": [
    "# 5. `f1-score` and `confusion matrix`\n",
    "macro\n",
    "- 0.5139\n",
    "- 0.5063\n",
    "- 0.4933\n",
    "- 0.4555\n",
    "- 0.4817\n",
    "- 0.4761\n",
    "- 0.5047\n",
    "- 0.5328\n",
    "- 0.5356\n",
    "- 0.5566\n",
    "- 0.5643"
   ]
  },
  {
   "cell_type": "code",
   "execution_count": 272,
   "metadata": {
    "scrolled": true
   },
   "outputs": [
    {
     "name": "stdout",
     "output_type": "stream",
     "text": [
      "||Results||\n",
      "\tTest f1 score(macro):\t0.5548 \n",
      "\tTest f1 score(weighted):\t0.8898 \n",
      "\tTook 0.006s.\n"
     ]
    }
   ],
   "source": [
    "# Results presentation\n",
    "import time\n",
    "start_time = time.time()\n",
    "\n",
    "print(\"||Results||\")\n",
    "\n",
    "\n",
    "import sklearn.metrics as metrics\n",
    "\n",
    "\n",
    "print(\"\\tTest f1 score(macro):\\t{:.4f} \".format(metrics.f1_score(y_true=y_test0, y_pred=foo,average=\"macro\")))\n",
    "print(\"\\tTest f1 score(weighted):\\t{:.4f} \".format(metrics.f1_score(y_true=y_test0, y_pred=foo,average=\"weighted\")))\n",
    "\n",
    "# print(\"\\tTest confusion matrix:\\t{:} \".format(metrics.confusion_matrix(y_test0, y_pred=foo)))\n",
    "# print(\"\\tTest fscore:\\t{:} \".format(metrics.(y_test0, y_pred=foo)))\n",
    "\n",
    "print(\"\\tTook {:.3f}s.\".format( time.time() - start_time))\n"
   ]
  },
  {
   "cell_type": "markdown",
   "metadata": {},
   "source": [
    "## 6. plot the confusion matrix\n",
    "\n",
    "http://scikit-learn.org/stable/auto_examples/model_selection/plot_confusion_matrix.html#sphx-glr-auto-examples-model-selection-plot-confusion-matrix-py"
   ]
  },
  {
   "cell_type": "code",
   "execution_count": 273,
   "metadata": {},
   "outputs": [
    {
     "name": "stdout",
     "output_type": "stream",
     "text": [
      "Confusion matrix, without normalization\n",
      "[[7926    8    5   12    2   33   19   24   51    8    3    2    5   14\n",
      "     3    9  101   12]\n",
      " [  17   28    0   10    0    0    0    0    0    0    0    0    0    0\n",
      "     0    3    0    0]\n",
      " [  12    0   69    0   14    0    0    0    0    0    0    0    0    0\n",
      "     0    0    0    0]\n",
      " [  13   12    0   35    0    0    0    0    0    0    0    0    0    0\n",
      "     0    0    0    0]\n",
      " [   9    0    2    0   72    0    0    0    0    0    0    0    0    0\n",
      "     0    0    0    0]\n",
      " [  95    0    0    0    0  111   11    6    5    0    0    0    0    0\n",
      "     0    0    0    0]\n",
      " [  36    0    0    0    0   10  111    2    0    0    1    0    0    0\n",
      "     0    0    0    0]\n",
      " [  40    0    0    0    0    4    0   53    3    0    0    0    0    0\n",
      "     0    0    0    0]\n",
      " [  36    0    0    0    0    2    0    4   35    0    0    0    0    0\n",
      "     0    0    0    0]\n",
      " [  14    0    0    0    0    0    0    0    0   12    6    0    1    0\n",
      "     0    0    0    6]\n",
      " [  22    0    0    0    0    0    0    0    0    7    8    0    2    0\n",
      "     0    0    0    3]\n",
      " [   9    0    0    0    0    2    0    1    0    7    3   10    2    2\n",
      "     2    0    0    2]\n",
      " [   4    0    0    0    0    2    0    0    0    2    0    6    5    3\n",
      "     4    0    0    0]\n",
      " [  13    0    0    0    0    0    0    2    1    0    0    7    4   38\n",
      "     2    0    0    0]\n",
      " [  18    0    0    0    0    0    0    1    3    0    0    1    6    8\n",
      "    24    0    0    0]\n",
      " [  48    0    0    0    0    0    0    0    0    0    0    0    0    0\n",
      "     0   51    0    0]\n",
      " [ 109    0    0    3    0    0    0    1    0    0    0    0    0    0\n",
      "     0    0  204    0]\n",
      " [  48    0    0    0    0    0    0    0    0    2    0    0    0    0\n",
      "     0    0    0   55]]\n",
      "Normalized confusion matrix\n",
      "[[9.622e-01 9.712e-04 6.070e-04 1.457e-03 2.428e-04 4.006e-03 2.307e-03\n",
      "  2.914e-03 6.192e-03 9.712e-04 3.642e-04 2.428e-04 6.070e-04 1.700e-03\n",
      "  3.642e-04 1.093e-03 1.226e-02 1.457e-03]\n",
      " [2.931e-01 4.828e-01 0.000e+00 1.724e-01 0.000e+00 0.000e+00 0.000e+00\n",
      "  0.000e+00 0.000e+00 0.000e+00 0.000e+00 0.000e+00 0.000e+00 0.000e+00\n",
      "  0.000e+00 5.172e-02 0.000e+00 0.000e+00]\n",
      " [1.263e-01 0.000e+00 7.263e-01 0.000e+00 1.474e-01 0.000e+00 0.000e+00\n",
      "  0.000e+00 0.000e+00 0.000e+00 0.000e+00 0.000e+00 0.000e+00 0.000e+00\n",
      "  0.000e+00 0.000e+00 0.000e+00 0.000e+00]\n",
      " [2.167e-01 2.000e-01 0.000e+00 5.833e-01 0.000e+00 0.000e+00 0.000e+00\n",
      "  0.000e+00 0.000e+00 0.000e+00 0.000e+00 0.000e+00 0.000e+00 0.000e+00\n",
      "  0.000e+00 0.000e+00 0.000e+00 0.000e+00]\n",
      " [1.084e-01 0.000e+00 2.410e-02 0.000e+00 8.675e-01 0.000e+00 0.000e+00\n",
      "  0.000e+00 0.000e+00 0.000e+00 0.000e+00 0.000e+00 0.000e+00 0.000e+00\n",
      "  0.000e+00 0.000e+00 0.000e+00 0.000e+00]\n",
      " [4.167e-01 0.000e+00 0.000e+00 0.000e+00 0.000e+00 4.868e-01 4.825e-02\n",
      "  2.632e-02 2.193e-02 0.000e+00 0.000e+00 0.000e+00 0.000e+00 0.000e+00\n",
      "  0.000e+00 0.000e+00 0.000e+00 0.000e+00]\n",
      " [2.250e-01 0.000e+00 0.000e+00 0.000e+00 0.000e+00 6.250e-02 6.937e-01\n",
      "  1.250e-02 0.000e+00 0.000e+00 6.250e-03 0.000e+00 0.000e+00 0.000e+00\n",
      "  0.000e+00 0.000e+00 0.000e+00 0.000e+00]\n",
      " [4.000e-01 0.000e+00 0.000e+00 0.000e+00 0.000e+00 4.000e-02 0.000e+00\n",
      "  5.300e-01 3.000e-02 0.000e+00 0.000e+00 0.000e+00 0.000e+00 0.000e+00\n",
      "  0.000e+00 0.000e+00 0.000e+00 0.000e+00]\n",
      " [4.675e-01 0.000e+00 0.000e+00 0.000e+00 0.000e+00 2.597e-02 0.000e+00\n",
      "  5.195e-02 4.545e-01 0.000e+00 0.000e+00 0.000e+00 0.000e+00 0.000e+00\n",
      "  0.000e+00 0.000e+00 0.000e+00 0.000e+00]\n",
      " [3.590e-01 0.000e+00 0.000e+00 0.000e+00 0.000e+00 0.000e+00 0.000e+00\n",
      "  0.000e+00 0.000e+00 3.077e-01 1.538e-01 0.000e+00 2.564e-02 0.000e+00\n",
      "  0.000e+00 0.000e+00 0.000e+00 1.538e-01]\n",
      " [5.238e-01 0.000e+00 0.000e+00 0.000e+00 0.000e+00 0.000e+00 0.000e+00\n",
      "  0.000e+00 0.000e+00 1.667e-01 1.905e-01 0.000e+00 4.762e-02 0.000e+00\n",
      "  0.000e+00 0.000e+00 0.000e+00 7.143e-02]\n",
      " [2.250e-01 0.000e+00 0.000e+00 0.000e+00 0.000e+00 5.000e-02 0.000e+00\n",
      "  2.500e-02 0.000e+00 1.750e-01 7.500e-02 2.500e-01 5.000e-02 5.000e-02\n",
      "  5.000e-02 0.000e+00 0.000e+00 5.000e-02]\n",
      " [1.538e-01 0.000e+00 0.000e+00 0.000e+00 0.000e+00 7.692e-02 0.000e+00\n",
      "  0.000e+00 0.000e+00 7.692e-02 0.000e+00 2.308e-01 1.923e-01 1.154e-01\n",
      "  1.538e-01 0.000e+00 0.000e+00 0.000e+00]\n",
      " [1.940e-01 0.000e+00 0.000e+00 0.000e+00 0.000e+00 0.000e+00 0.000e+00\n",
      "  2.985e-02 1.493e-02 0.000e+00 0.000e+00 1.045e-01 5.970e-02 5.672e-01\n",
      "  2.985e-02 0.000e+00 0.000e+00 0.000e+00]\n",
      " [2.951e-01 0.000e+00 0.000e+00 0.000e+00 0.000e+00 0.000e+00 0.000e+00\n",
      "  1.639e-02 4.918e-02 0.000e+00 0.000e+00 1.639e-02 9.836e-02 1.311e-01\n",
      "  3.934e-01 0.000e+00 0.000e+00 0.000e+00]\n",
      " [4.848e-01 0.000e+00 0.000e+00 0.000e+00 0.000e+00 0.000e+00 0.000e+00\n",
      "  0.000e+00 0.000e+00 0.000e+00 0.000e+00 0.000e+00 0.000e+00 0.000e+00\n",
      "  0.000e+00 5.152e-01 0.000e+00 0.000e+00]\n",
      " [3.438e-01 0.000e+00 0.000e+00 9.464e-03 0.000e+00 0.000e+00 0.000e+00\n",
      "  3.155e-03 0.000e+00 0.000e+00 0.000e+00 0.000e+00 0.000e+00 0.000e+00\n",
      "  0.000e+00 0.000e+00 6.435e-01 0.000e+00]\n",
      " [4.571e-01 0.000e+00 0.000e+00 0.000e+00 0.000e+00 0.000e+00 0.000e+00\n",
      "  0.000e+00 0.000e+00 1.905e-02 0.000e+00 0.000e+00 0.000e+00 0.000e+00\n",
      "  0.000e+00 0.000e+00 0.000e+00 5.238e-01]]\n"
     ]
    },
    {
     "data": {
      "image/png": "[encoded data removed]",
      "text/plain": [
       "<matplotlib.figure.Figure at 0x1a4100aba8>"
      ]
     },
     "metadata": {},
     "output_type": "display_data"
    },
    {
     "data": {
      "image/png": "[encoded data removed]",
      "text/plain": [
       "<matplotlib.figure.Figure at 0x1a3df469e8>"
      ]
     },
     "metadata": {},
     "output_type": "display_data"
    }
   ],
   "source": [
    "import matplotlib.pyplot as plt\n",
    "import itertools\n",
    "from sklearn.metrics import confusion_matrix\n",
    "\n",
    "def plot_confusion_matrix(cm, classes,\n",
    "                          normalize=False,\n",
    "                          title='Confusion matrix',\n",
    "                          cmap=plt.cm.Reds):\n",
    "    \"\"\"\n",
    "    This function prints and plots the confusion matrix.\n",
    "    Normalization can be applied by setting `normalize=True`.\n",
    "    \"\"\"\n",
    "    if normalize:\n",
    "        cm = cm.astype('int') / cm.sum(axis=1)[:, np.newaxis]\n",
    "        print(\"Normalized confusion matrix\")\n",
    "    else:\n",
    "        print('Confusion matrix, without normalization')\n",
    "\n",
    "    print(cm)\n",
    "\n",
    "    plt.imshow(cm, interpolation='nearest', cmap=cmap)\n",
    "    plt.title(title)\n",
    "    plt.colorbar()\n",
    "    tick_marks = np.arange(len(classes))\n",
    "    plt.xticks(tick_marks, classes, rotation=45)\n",
    "    plt.yticks(tick_marks, classes)\n",
    "\n",
    "    fmt = '.2f' if normalize else 'd'\n",
    "    thresh = cm.max() / 2.\n",
    "    for i, j in itertools.product(range(cm.shape[0]), range(cm.shape[1])):\n",
    "        plt.text(j, i, format(cm[i, j], fmt),\n",
    "                 horizontalalignment=\"center\",\n",
    "                 color=\"white\" if cm[i, j] > thresh else \"black\")\n",
    "\n",
    "    plt.tight_layout()\n",
    "    plt.ylabel('True label')\n",
    "    plt.xlabel('Predicted label')\n",
    "    \n",
    "    \n",
    "\n",
    "# Compute confusion matrix\n",
    "cnf_matrix = confusion_matrix(y_test0, foo)\n",
    "np.set_printoptions(precision=3)\n",
    "\n",
    "\n",
    "# Plot non-normalized confusion matrix\n",
    "plt.figure(figsize=(6,6))\n",
    "plot_confusion_matrix(cnf_matrix,classes=[0,1,2,3,4,5,6,7,8,9,10,11,12,13,14,15,16,17],\n",
    "                      title='ConvLSTM on Opportunity (without normalization).jpg')\n",
    "plt.savefig(\"ConvLSTM on Opportunity (without normalization).jpg\")\n",
    "\n",
    "#Plot normalized confusion matrix\n",
    "plt.figure(figsize=(8,8))\n",
    "plot_confusion_matrix(cnf_matrix, classes=[0,1,2,3,4,5,6,7,8,9,10,11,12,13,14,15,16,17], normalize=True,\n",
    "#                        title='Normalized confusion matrix')\n",
    "                      title='ConvLSTM on Opportunity (with normalization)')\n",
    "plt.savefig(\"ConvLSTM on Opportunity (with normalization).jpg\")\n",
    "plt.show()"
   ]
  },
  {
   "cell_type": "code",
   "execution_count": null,
   "metadata": {},
   "outputs": [],
   "source": []
  },
  {
   "cell_type": "code",
   "execution_count": null,
   "metadata": {},
   "outputs": [],
   "source": []
  },
  {
   "cell_type": "code",
   "execution_count": null,
   "metadata": {},
   "outputs": [],
   "source": []
  }
 ],
 "metadata": {
  "kernelspec": {
   "display_name": "Python 3",
   "language": "python",
   "name": "python3"
  },
  "language_info": {
   "codemirror_mode": {
    "name": "ipython",
    "version": 3
   },
   "file_extension": ".py",
   "mimetype": "text/x-python",
   "name": "python",
   "nbconvert_exporter": "python",
   "pygments_lexer": "ipython3",
   "version": "3.6.4"
  },
  "varInspector": {
   "cols": {
    "lenName": 16,
    "lenType": 16,
    "lenVar": 40
   },
   "kernels_config": {
    "python": {
     "delete_cmd_postfix": "",
     "delete_cmd_prefix": "del ",
     "library": "var_list.py",
     "varRefreshCmd": "print(var_dic_list())"
    },
    "r": {
     "delete_cmd_postfix": ") ",
     "delete_cmd_prefix": "rm(",
     "library": "var_list.r",
     "varRefreshCmd": "cat(var_dic_list()) "
    }
   },
   "types_to_exclude": [
    "module",
    "function",
    "builtin_function_or_method",
    "instance",
    "_Feature"
   ],
   "window_display": false
  }
 },
 "nbformat": 4,
 "nbformat_minor": 2
}
